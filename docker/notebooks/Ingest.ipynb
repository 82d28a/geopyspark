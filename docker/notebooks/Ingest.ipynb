{
 "cells": [
  {
   "cell_type": "code",
   "execution_count": 1,
   "metadata": {
    "collapsed": true
   },
   "outputs": [],
   "source": [
    "from geopyspark.geopycontext import GeoPyContext\n",
    "from geopyspark.geotrellis.constants import SPATIAL\n",
    "from geopyspark.geotrellis.geotiff_rdd import geotiff_rdd\n",
    "from geopyspark.geotrellis.tile_layer import collect_pyramid_metadata, tile_to_layout, pyramid, reproject\n",
    "from geopyspark.geotrellis.catalog import write, read"
   ]
  },
  {
   "cell_type": "code",
   "execution_count": 2,
   "metadata": {
    "collapsed": true
   },
   "outputs": [],
   "source": [
    "from pyspark import SparkContext"
   ]
  },
  {
   "cell_type": "code",
   "execution_count": 3,
   "metadata": {
    "collapsed": true
   },
   "outputs": [],
   "source": [
    "sc = SparkContext(appName=\"Ingest\")"
   ]
  },
  {
   "cell_type": "code",
   "execution_count": 4,
   "metadata": {
    "collapsed": true
   },
   "outputs": [],
   "source": [
    "geopysc = GeoPyContext(sc)"
   ]
  },
  {
   "cell_type": "code",
   "execution_count": 5,
   "metadata": {
    "collapsed": true
   },
   "outputs": [],
   "source": [
    "path = \"hdfs:/rasters/Globe15_TIFF.tif\""
   ]
  },
  {
   "cell_type": "code",
   "execution_count": 6,
   "metadata": {
    "collapsed": false
   },
   "outputs": [],
   "source": [
    "rdd = geotiff_rdd(geopysc, SPATIAL, path, maxTileSize=256)"
   ]
  },
  {
   "cell_type": "code",
   "execution_count": 7,
   "metadata": {
    "collapsed": false
   },
   "outputs": [
    {
     "data": {
      "text/plain": [
       "({'epsg': 4326,\n",
       "  'extent': {'xmax': -48.8286849246169,\n",
       "   'xmin': -48.8642158112729,\n",
       "   'ymax': -5.28478156613762,\n",
       "   'ymin': -5.32031245279362},\n",
       "  'proj4': None},\n",
       " {'data': array([[[ 34,  47,  89, ..., 151, 129, 123],\n",
       "          [ 28,  41,  84, ..., 146, 118, 120],\n",
       "          [ 57,  69, 104, ..., 139, 102, 112],\n",
       "          ..., \n",
       "          [108, 112, 104, ...,  36,  28,  38],\n",
       "          [125, 111, 104, ...,  23,  31,  48],\n",
       "          [109,  81,  83, ...,  41,  67,  81]],\n",
       "  \n",
       "         [[104, 109, 138, ..., 152, 131, 125],\n",
       "          [ 94, 101, 133, ..., 148, 120, 122],\n",
       "          [116, 124, 151, ..., 142, 104, 112],\n",
       "          ..., \n",
       "          [108, 115, 111, ...,  74,  61,  66],\n",
       "          [125, 115, 112, ...,  63,  65,  76],\n",
       "          [112,  87,  91, ...,  79, 101, 111]],\n",
       "  \n",
       "         [[ 62,  77, 119, ..., 136, 118, 115],\n",
       "          [ 52,  69, 115, ..., 132, 107, 112],\n",
       "          [ 76,  94, 134, ..., 126,  92, 102],\n",
       "          ..., \n",
       "          [ 94, 105, 105, ...,  34,  24,  32],\n",
       "          [111, 105, 105, ...,  22,  27,  40],\n",
       "          [ 99,  77,  84, ...,  39,  62,  74]]], dtype=uint8),\n",
       "  'no_data_value': None})"
      ]
     },
     "execution_count": 7,
     "metadata": {},
     "output_type": "execute_result"
    }
   ],
   "source": [
    "rdd.first()"
   ]
  },
  {
   "cell_type": "code",
   "execution_count": 11,
   "metadata": {
    "collapsed": false
   },
   "outputs": [],
   "source": [
    "(_, metadata) = collect_pyramid_metadata(geopysc, SPATIAL, rdd, crs=\"EPSG:4326\", tile_size=256)"
   ]
  },
  {
   "cell_type": "code",
   "execution_count": 12,
   "metadata": {
    "collapsed": false
   },
   "outputs": [],
   "source": [
    "laid_out = tile_to_layout(geopysc, SPATIAL, rdd, metadata)"
   ]
  },
  {
   "cell_type": "code",
   "execution_count": 13,
   "metadata": {
    "collapsed": true
   },
   "outputs": [],
   "source": [
    "pyramided = pyramid(geopysc, SPATIAL, laid_out, metadata, 256, 11, 0)"
   ]
  },
  {
   "cell_type": "code",
   "execution_count": 18,
   "metadata": {
    "collapsed": false
   },
   "outputs": [
    {
     "ename": "Py4JError",
     "evalue": "An error occurred while calling z:geopyspark.geotrellis.io.AttributeStoreFactory.buildHadoop. Trace:\npy4j.Py4JException: Method buildHadoop([class java.lang.String]) does not exist\n\tat py4j.reflection.ReflectionEngine.getMethod(ReflectionEngine.java:318)\n\tat py4j.reflection.ReflectionEngine.getMethod(ReflectionEngine.java:339)\n\tat py4j.Gateway.invoke(Gateway.java:274)\n\tat py4j.commands.AbstractCommand.invokeMethod(AbstractCommand.java:132)\n\tat py4j.commands.CallCommand.execute(CallCommand.java:79)\n\tat py4j.GatewayConnection.run(GatewayConnection.java:214)\n\tat java.lang.Thread.run(Thread.java:745)\n\n",
     "output_type": "error",
     "traceback": [
      "\u001b[0;31m---------------------------------------------------------------------------\u001b[0m",
      "\u001b[0;31mPy4JError\u001b[0m                                 Traceback (most recent call last)",
      "\u001b[0;32m<ipython-input-18-5b5335814893>\u001b[0m in \u001b[0;36m<module>\u001b[0;34m()\u001b[0m\n\u001b[1;32m      1\u001b[0m \u001b[0;32mfor\u001b[0m \u001b[0mzoom\u001b[0m\u001b[0;34m,\u001b[0m \u001b[0mlayer_rdd\u001b[0m\u001b[0;34m,\u001b[0m \u001b[0mlayer_metadata\u001b[0m \u001b[0;32min\u001b[0m \u001b[0mpyramided\u001b[0m\u001b[0;34m:\u001b[0m\u001b[0;34m\u001b[0m\u001b[0m\n\u001b[0;32m----> 2\u001b[0;31m     \u001b[0mwrite\u001b[0m\u001b[0;34m(\u001b[0m\u001b[0mgeopysc\u001b[0m\u001b[0;34m,\u001b[0m \u001b[0mSPATIAL\u001b[0m\u001b[0;34m,\u001b[0m \u001b[0;34m\"hdfs:///catalog\"\u001b[0m\u001b[0;34m,\u001b[0m \u001b[0;34m\"python-benchmark\"\u001b[0m\u001b[0;34m,\u001b[0m \u001b[0mzoom\u001b[0m\u001b[0;34m,\u001b[0m \u001b[0mlayer_rdd\u001b[0m\u001b[0;34m,\u001b[0m \u001b[0mlayer_metadata\u001b[0m\u001b[0;34m)\u001b[0m\u001b[0;34m\u001b[0m\u001b[0m\n\u001b[0m",
      "\u001b[0;32m/home/hadoop/.local/lib/python3.4/site-packages/geopyspark/geotrellis/catalog.py\u001b[0m in \u001b[0;36mwrite\u001b[0;34m(geopysc, rdd_type, uri, layer_name, layer_zoom, rdd, metadata, index_strategy, time_unit, options, **kwargs)\u001b[0m\n\u001b[1;32m    597\u001b[0m         \u001b[0moptions\u001b[0m \u001b[0;34m=\u001b[0m \u001b[0;34m{\u001b[0m\u001b[0;34m}\u001b[0m\u001b[0;34m\u001b[0m\u001b[0m\n\u001b[1;32m    598\u001b[0m \u001b[0;34m\u001b[0m\u001b[0m\n\u001b[0;32m--> 599\u001b[0;31m     \u001b[0m_construct_catalog\u001b[0m\u001b[0;34m(\u001b[0m\u001b[0mgeopysc\u001b[0m\u001b[0;34m,\u001b[0m \u001b[0muri\u001b[0m\u001b[0;34m,\u001b[0m \u001b[0moptions\u001b[0m\u001b[0;34m)\u001b[0m\u001b[0;34m\u001b[0m\u001b[0m\n\u001b[0m\u001b[1;32m    600\u001b[0m \u001b[0;34m\u001b[0m\u001b[0m\n\u001b[1;32m    601\u001b[0m     \u001b[0mbuilds\u001b[0m \u001b[0;34m=\u001b[0m \u001b[0m_mapped_builds\u001b[0m\u001b[0;34m[\u001b[0m\u001b[0muri\u001b[0m\u001b[0;34m]\u001b[0m\u001b[0;34m\u001b[0m\u001b[0m\n",
      "\u001b[0;32m/home/hadoop/.local/lib/python3.4/site-packages/geopyspark/geotrellis/catalog.py\u001b[0m in \u001b[0;36m_construct_catalog\u001b[0;34m(geopysc, new_uri, options)\u001b[0m\n\u001b[1;32m     27\u001b[0m \u001b[0;34m\u001b[0m\u001b[0m\n\u001b[1;32m     28\u001b[0m         \u001b[0;32mif\u001b[0m \u001b[0mbackend\u001b[0m \u001b[0;34m==\u001b[0m \u001b[0;34m'hdfs'\u001b[0m\u001b[0;34m:\u001b[0m\u001b[0;34m\u001b[0m\u001b[0m\n\u001b[0;32m---> 29\u001b[0;31m             \u001b[0mstore\u001b[0m \u001b[0;34m=\u001b[0m \u001b[0mgeopysc\u001b[0m\u001b[0;34m.\u001b[0m\u001b[0mstore_factory\u001b[0m\u001b[0;34m.\u001b[0m\u001b[0mbuildHadoop\u001b[0m\u001b[0;34m(\u001b[0m\u001b[0mnew_uri\u001b[0m\u001b[0;34m)\u001b[0m\u001b[0;34m\u001b[0m\u001b[0m\n\u001b[0m\u001b[1;32m     30\u001b[0m             \u001b[0mreader\u001b[0m \u001b[0;34m=\u001b[0m \u001b[0mgeopysc\u001b[0m\u001b[0;34m.\u001b[0m\u001b[0mreader_factory\u001b[0m\u001b[0;34m.\u001b[0m\u001b[0mbuildHadoop\u001b[0m\u001b[0;34m(\u001b[0m\u001b[0mstore\u001b[0m\u001b[0;34m,\u001b[0m \u001b[0mgeopysc\u001b[0m\u001b[0;34m.\u001b[0m\u001b[0msc\u001b[0m\u001b[0;34m)\u001b[0m\u001b[0;34m\u001b[0m\u001b[0m\n\u001b[1;32m     31\u001b[0m             \u001b[0mvalue_reader\u001b[0m \u001b[0;34m=\u001b[0m \u001b[0mgeopysc\u001b[0m\u001b[0;34m.\u001b[0m\u001b[0mvalue_reader_factory\u001b[0m\u001b[0;34m.\u001b[0m\u001b[0mbuildHadoop\u001b[0m\u001b[0;34m(\u001b[0m\u001b[0mstore\u001b[0m\u001b[0;34m)\u001b[0m\u001b[0;34m\u001b[0m\u001b[0m\n",
      "\u001b[0;32m/usr/local/spark-2.1.0-bin-hadoop2.7/python/lib/py4j-0.10.4-src.zip/py4j/java_gateway.py\u001b[0m in \u001b[0;36m__call__\u001b[0;34m(self, *args)\u001b[0m\n\u001b[1;32m   1131\u001b[0m         \u001b[0manswer\u001b[0m \u001b[0;34m=\u001b[0m \u001b[0mself\u001b[0m\u001b[0;34m.\u001b[0m\u001b[0mgateway_client\u001b[0m\u001b[0;34m.\u001b[0m\u001b[0msend_command\u001b[0m\u001b[0;34m(\u001b[0m\u001b[0mcommand\u001b[0m\u001b[0;34m)\u001b[0m\u001b[0;34m\u001b[0m\u001b[0m\n\u001b[1;32m   1132\u001b[0m         return_value = get_return_value(\n\u001b[0;32m-> 1133\u001b[0;31m             answer, self.gateway_client, self.target_id, self.name)\n\u001b[0m\u001b[1;32m   1134\u001b[0m \u001b[0;34m\u001b[0m\u001b[0m\n\u001b[1;32m   1135\u001b[0m         \u001b[0;32mfor\u001b[0m \u001b[0mtemp_arg\u001b[0m \u001b[0;32min\u001b[0m \u001b[0mtemp_args\u001b[0m\u001b[0;34m:\u001b[0m\u001b[0;34m\u001b[0m\u001b[0m\n",
      "\u001b[0;32m/usr/local/spark-2.1.0-bin-hadoop2.7/python/lib/py4j-0.10.4-src.zip/py4j/protocol.py\u001b[0m in \u001b[0;36mget_return_value\u001b[0;34m(answer, gateway_client, target_id, name)\u001b[0m\n\u001b[1;32m    321\u001b[0m                 raise Py4JError(\n\u001b[1;32m    322\u001b[0m                     \u001b[0;34m\"An error occurred while calling {0}{1}{2}. Trace:\\n{3}\\n\"\u001b[0m\u001b[0;34m.\u001b[0m\u001b[0;34m\u001b[0m\u001b[0m\n\u001b[0;32m--> 323\u001b[0;31m                     format(target_id, \".\", name, value))\n\u001b[0m\u001b[1;32m    324\u001b[0m         \u001b[0;32melse\u001b[0m\u001b[0;34m:\u001b[0m\u001b[0;34m\u001b[0m\u001b[0m\n\u001b[1;32m    325\u001b[0m             raise Py4JError(\n",
      "\u001b[0;31mPy4JError\u001b[0m: An error occurred while calling z:geopyspark.geotrellis.io.AttributeStoreFactory.buildHadoop. Trace:\npy4j.Py4JException: Method buildHadoop([class java.lang.String]) does not exist\n\tat py4j.reflection.ReflectionEngine.getMethod(ReflectionEngine.java:318)\n\tat py4j.reflection.ReflectionEngine.getMethod(ReflectionEngine.java:339)\n\tat py4j.Gateway.invoke(Gateway.java:274)\n\tat py4j.commands.AbstractCommand.invokeMethod(AbstractCommand.java:132)\n\tat py4j.commands.CallCommand.execute(CallCommand.java:79)\n\tat py4j.GatewayConnection.run(GatewayConnection.java:214)\n\tat java.lang.Thread.run(Thread.java:745)\n\n"
     ]
    }
   ],
   "source": [
    "for zoom, layer_rdd, layer_metadata in pyramided:\n",
    "    write(geopysc, SPATIAL, \"hdfs:///catalog\", \"python-benchmark\", zoom, layer_rdd, layer_metadata)"
   ]
  },
  {
   "cell_type": "code",
   "execution_count": null,
   "metadata": {
    "collapsed": true
   },
   "outputs": [],
   "source": []
  }
 ],
 "metadata": {
  "kernelspec": {
   "display_name": "PySpark (YARN)",
   "language": "python",
   "name": "pysparkyarn"
  },
  "language_info": {
   "codemirror_mode": {
    "name": "ipython",
    "version": 3
   },
   "file_extension": ".py",
   "mimetype": "text/x-python",
   "name": "python",
   "nbconvert_exporter": "python",
   "pygments_lexer": "ipython3",
   "version": "3.4.5"
  }
 },
 "nbformat": 4,
 "nbformat_minor": 2
}
