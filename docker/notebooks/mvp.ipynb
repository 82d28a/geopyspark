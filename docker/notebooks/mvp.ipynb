{
 "cells": [
  {
   "cell_type": "code",
   "execution_count": null,
   "metadata": {
    "collapsed": true
   },
   "outputs": [],
   "source": [
    "%load_ext autoreload\n",
    "%autoreload 2"
   ]
  },
  {
   "cell_type": "code",
   "execution_count": 1,
   "metadata": {
    "collapsed": true
   },
   "outputs": [],
   "source": [
    "from pyspark import SparkContext\n",
    "from pyspark.conf import SparkConf\n",
    "from pyspark import StorageLevel\n",
    "from geopyspark.geopycontext import GeoPyContext\n",
    "from geopyspark.geotrellis import Extent\n",
    "from geopyspark.geotrellis.rdd import TiledRasterRDD, Pyramid\n",
    "from geopyspark.geotrellis.color import get_breaks, ColorMap\n",
    "from geopyspark.geotrellis.constants import *\n",
    "import json\n",
    "import shapely\n",
    "from shapely.geometry import shape, asShape, MultiPoint, MultiLineString\n",
    "import matplotlib.pyplot as plt\n",
    "\n",
    "from geonotebook.wrappers import RddRasterData\n",
    "\n",
    "%matplotlib inline\n",
    "\n",
    "conf = SparkConf()\n",
    "conf.setMaster(\"local[*]\")\n",
    "\n",
    "gps = GeoPyContext(SparkContext.getOrCreate(conf))"
   ]
  },
  {
   "cell_type": "markdown",
   "metadata": {},
   "source": [
    "## Rasterize Libya Roads to Raster RDD"
   ]
  },
  {
   "cell_type": "code",
   "execution_count": 2,
   "metadata": {
    "collapsed": true,
    "scrolled": true
   },
   "outputs": [],
   "source": [
    "with open('roads.geojson', encoding='utf-8') as data_file:\n",
    "    roads = json.load(data_file)\n",
    "    libya_roads = MultiLineString([shape(geom['geometry']) for geom in roads['features']])\n",
    "\n",
    "with open('Libya_shape.geojson', encoding='utf-8') as data_file:\n",
    "    libya_border = shape(json.load(data_file)['features'][0]['geometry'])"
   ]
  },
  {
   "cell_type": "code",
   "execution_count": 3,
   "metadata": {},
   "outputs": [
    {
     "data": {
      "text/plain": [
       "Extent(xmin=640503.71, ymin=2086100.24, xmax=3047702.11, ymax=3998370.3)"
      ]
     },
     "execution_count": 3,
     "metadata": {},
     "output_type": "execute_result"
    }
   ],
   "source": [
    "# Try to be friedly with python libraries like shapely\n",
    "from geopyspark import geotrellis\n",
    "Extent(*libya_border.bounds)\n",
    "Extent(*libya_roads.bounds)"
   ]
  },
  {
   "cell_type": "code",
   "execution_count": 20,
   "metadata": {},
   "outputs": [
    {
     "data": {
      "text/plain": [
       "Bounds(minKey=SpatialKey(col=132, row=102), maxKey=SpatialKey(col=147, row=114))"
      ]
     },
     "execution_count": 20,
     "metadata": {},
     "output_type": "execute_result"
    }
   ],
   "source": [
    "# All execution time here is sending WKB over py4j socket\n",
    "from geopyspark.geotrellis.rdd import rasterize\n",
    "from geopyspark.geotrellis import RasterizerOptions\n",
    "\n",
    "ro = RasterizerOptions(includePartial=True, sampleType='PixelIsArea')\n",
    "\n",
    "road_raster = rasterize(gps, geoms=libya_roads.geoms, \n",
    "                        crs=\"EPSG:3857\", zoom=8, \n",
    "                        fill_value=1, cell_type=\"float32\",\n",
    "                        options = ro,\n",
    "                        numPartitions = 20)\n",
    "\n",
    "road_raster.layer_metadata.bounds"
   ]
  },
  {
   "cell_type": "markdown",
   "metadata": {},
   "source": [
    "## Show Rasterized Roads on a Map"
   ]
  },
  {
   "cell_type": "code",
   "execution_count": 21,
   "metadata": {
    "collapsed": true
   },
   "outputs": [],
   "source": [
    "# Pyramid up from base layer\n",
    "\n",
    "road_pp = road_raster.pyramid(start_zoom=8, end_zoom=1).cache()"
   ]
  },
  {
   "cell_type": "code",
   "execution_count": 22,
   "metadata": {},
   "outputs": [
    {
     "name": "stdout",
     "output_type": "stream",
     "text": [
      "Added TMS server at port 60190\n"
     ]
    },
    {
     "data": {
      "text/plain": [
       "<promise.promise.Promise at 0x7f6dc65bc9e8>"
      ]
     },
     "execution_count": 22,
     "metadata": {},
     "output_type": "execute_result"
    }
   ],
   "source": [
    "from geopyspark.geotrellis.tms import *\n",
    "from geonotebook.wrappers.raster import TMSRasterData\n",
    "\n",
    "# color map roads 1 to red\n",
    "roads_cm = ColorMap.from_colors(gps, [1], [0xff000080])\n",
    "\n",
    "# start JVM tile server and serve tiles to map\n",
    "server = rdd_tms_server(gps, road_pp, roads_cm)\n",
    "M.add_layer(TMSRasterData(server), name=\"TMS\")"
   ]
  },
  {
   "cell_type": "code",
   "execution_count": null,
   "metadata": {
    "collapsed": true
   },
   "outputs": [],
   "source": [
    "M.remove_layer(M.layers[0])"
   ]
  },
  {
   "cell_type": "markdown",
   "metadata": {},
   "source": [
    "## Cost Distance Based on Road Network"
   ]
  },
  {
   "cell_type": "code",
   "execution_count": 7,
   "metadata": {
    "collapsed": true
   },
   "outputs": [],
   "source": [
    "# road network will shape our friction layer\n",
    "\n",
    "road_friction = (\n",
    "    road_raster\n",
    "    .reclassify({1:1}, data_type=int, replace_nodata_with=10)\n",
    ")"
   ]
  },
  {
   "cell_type": "code",
   "execution_count": null,
   "metadata": {},
   "outputs": [],
   "source": [
    "# starting points for cost distance operation\n",
    "\n",
    "with open('population.geojson', encoding='utf-8') as data_file:\n",
    "    population_centers = MultiPoint([shape(geom['geometry']) for geom in json.load(data_file)['features']])\n",
    "\n",
    "with open('conflict.geojson', encoding='utf-8') as data_file:\n",
    "    conflict_centers=MultiPoint([shape(feature['geometry']) for feature in json.load(data_file)['features'] if feature['geometry'] != None])\n",
    "\n",
    "conflict_centers"
   ]
  },
  {
   "cell_type": "code",
   "execution_count": 11,
   "metadata": {},
   "outputs": [
    {
     "data": {
      "text/plain": [
       "<promise.promise.Promise at 0x7f0ef12f27f0>"
      ]
     },
     "execution_count": 11,
     "metadata": {},
     "output_type": "execute_result"
    }
   ],
   "source": [
    "from geonotebook.wrappers import VectorData\n",
    "M.add_layer(VectorData(\"population.geojson\"), name=\"Population\")"
   ]
  },
  {
   "cell_type": "code",
   "execution_count": 9,
   "metadata": {
    "collapsed": true
   },
   "outputs": [],
   "source": [
    "# wait for the iterations to settle\n",
    "\n",
    "pop_cd = (\n",
    "    road_friction\n",
    "    .cost_distance(\n",
    "        geometries = population_centers, \n",
    "        max_distance=1400000.0\n",
    "    )\n",
    ")\n",
    "pop_pp = pop_cd.pyramid(start_zoom=8, end_zoom=1)"
   ]
  },
  {
   "cell_type": "code",
   "execution_count": 10,
   "metadata": {
    "collapsed": true
   },
   "outputs": [],
   "source": [
    "con_cd = (\n",
    "    road_friction\n",
    "    .cost_distance(\n",
    "        geometries = conflict_centers, \n",
    "        max_distance=1400000.0\n",
    "    )\n",
    ")\n",
    "con_pp = con_cd.pyramid(start_zoom=8, end_zoom=1)"
   ]
  },
  {
   "cell_type": "code",
   "execution_count": 21,
   "metadata": {
    "collapsed": true
   },
   "outputs": [],
   "source": [
    "# prepare color map for weighted overlay based on max cost\n",
    "\n",
    "breaks = [x for x in range(0, 1000000, 10000)]\n",
    "colors = get_breaks(gps, 'Viridis', len(breaks))\n",
    "wo_cm = ColorMap.from_colors(gps, breaks=breaks, color_list=colors)"
   ]
  },
  {
   "cell_type": "code",
   "execution_count": 12,
   "metadata": {
    "collapsed": true
   },
   "outputs": [],
   "source": [
    "from geopyspark.geotrellis.tms import *\n",
    "from geonotebook.wrappers.raster import TMSRasterData"
   ]
  },
  {
   "cell_type": "code",
   "execution_count": 28,
   "metadata": {},
   "outputs": [
    {
     "name": "stdout",
     "output_type": "stream",
     "text": [
      "Added TMS server at port 64841\n"
     ]
    },
    {
     "data": {
      "text/plain": [
       "<promise.promise.Promise at 0x7fac4daac0f0>"
      ]
     },
     "execution_count": 28,
     "metadata": {},
     "output_type": "execute_result"
    }
   ],
   "source": [
    "weighted_overlay = (con_pp * 0.0) + (pop_pp * 1.0)\n",
    "\n",
    "server = rdd_tms_server(gps, weighted_overlay, wo_cm)\n",
    "M.add_layer(TMSRasterData(server), name=\"WO\")"
   ]
  },
  {
   "cell_type": "code",
   "execution_count": 29,
   "metadata": {},
   "outputs": [
    {
     "data": {
      "text/plain": [
       "<promise.promise.Promise at 0x7fac4da5df28>"
      ]
     },
     "execution_count": 29,
     "metadata": {},
     "output_type": "execute_result"
    }
   ],
   "source": [
    "# remove the next to last layer\n",
    "M.remove_layer(M.layers[-2])"
   ]
  }
 ],
 "metadata": {
  "kernelspec": {
   "display_name": "GeoNotebook + GeoPySpark (local)",
   "language": "python",
   "name": "geonotebook3"
  },
  "language_info": {
   "codemirror_mode": {
    "name": "ipython",
    "version": 3
   },
   "file_extension": ".py",
   "mimetype": "text/x-python",
   "name": "python",
   "nbconvert_exporter": "python",
   "pygments_lexer": "ipython3",
   "version": "3.4.5"
  }
 },
 "nbformat": 4,
 "nbformat_minor": 2
}
