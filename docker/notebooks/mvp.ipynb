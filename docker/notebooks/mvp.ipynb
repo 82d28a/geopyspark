{
 "cells": [
  {
   "cell_type": "code",
   "execution_count": null,
   "metadata": {
    "collapsed": true
   },
   "outputs": [],
   "source": [
    "%load_ext autoreload\n",
    "%autoreload 2"
   ]
  },
  {
   "cell_type": "code",
   "execution_count": null,
   "metadata": {
    "collapsed": true
   },
   "outputs": [],
   "source": [
    "from pyspark import SparkContext\n",
    "from pyspark.conf import SparkConf\n",
    "from pyspark import StorageLevel\n",
    "from geopyspark.geopycontext import GeoPyContext\n",
    "from geopyspark.geotrellis import Extent\n",
    "from geopyspark.geotrellis.constants import SPATIAL, NODATAINT, MAX, SQUARE, EXACT, ZOOM\n",
    "from geopyspark.geotrellis.rdd import TiledRasterRDD\n",
    "from geopyspark.geotrellis.pyramid import Pyramid\n",
    "from geopyspark.geotrellis.constants import *\n",
    "import json\n",
    "import shapely\n",
    "from shapely.geometry import shape, asShape, MultiPoint, MultiLineString\n",
    "import matplotlib.pyplot as plt\n",
    "\n",
    "from geonotebook.wrappers import RddRasterData\n",
    "\n",
    "%matplotlib inline\n",
    "\n",
    "conf = SparkConf()\n",
    "conf.setMaster(\"local[*]\")\n",
    "\n",
    "gps = GeoPyContext(SparkContext.getOrCreate(conf))"
   ]
  },
  {
   "cell_type": "code",
   "execution_count": null,
   "metadata": {
    "collapsed": true,
    "scrolled": true
   },
   "outputs": [],
   "source": [
    "with open('roads.geojson', encoding='utf-8') as data_file:\n",
    "    roads = json.load(data_file)\n",
    "    libya_roads = MultiLineString([shape(geom['geometry']) for geom in roads['features']])\n",
    "\n",
    "with open('Libya_shape.geojson', encoding='utf-8') as data_file:\n",
    "    libya_border = shape(json.load(data_file)['features'][0]['geometry'])"
   ]
  },
  {
   "cell_type": "code",
   "execution_count": null,
   "metadata": {},
   "outputs": [],
   "source": [
    "libya_border.bounds\n",
    "from geopyspark import geotrellis\n",
    "Extent(*libya_border.bounds)\n",
    "Extent(*libya_roads.bounds)"
   ]
  },
  {
   "cell_type": "code",
   "execution_count": null,
   "metadata": {},
   "outputs": [],
   "source": [
    "# Why does this call take any time at all?\n",
    "from geopyspark.geotrellis.rdd import rasterize\n",
    "from geopyspark.geotrellis import RasterizerOptions\n",
    "ro = RasterizerOptions(includePartial=True, sampleType='PixelIsArea')\n",
    "road_raster = rasterize(gps, geoms=libya_roads.geoms, \n",
    "                        crs=\"EPSG:3857\", zoom=8, \n",
    "                        fill_value=1, cell_type=\"float32\", \n",
    "                        options = ro)\n",
    "\n",
    "road_raster.layer_metadata.bounds\n",
    "# TODO: numPartitions is to wee small here"
   ]
  },
  {
   "cell_type": "code",
   "execution_count": null,
   "metadata": {
    "collapsed": true
   },
   "outputs": [],
   "source": [
    "road_raster = road_raster.repartition(num_partitions=20)"
   ]
  },
  {
   "cell_type": "code",
   "execution_count": null,
   "metadata": {},
   "outputs": [],
   "source": [
    "road_pp = Pyramid(road_raster.pyramid(start_zoom=8, end_zoom=1))\n",
    "road_png_pp = road_pp.to_png_pyramid(color_ramp='Viridis')\n",
    "#road_png_pp.persist(StorageLevel.MEMORY_AND_DISK)\n",
    "M.add_layer(RddRasterData(road_png_pp, name='Roads'))"
   ]
  },
  {
   "cell_type": "code",
   "execution_count": null,
   "metadata": {},
   "outputs": [],
   "source": [
    "road_png_pp.unpersist()\n",
    "M.remove_layer(M.layers[0])"
   ]
  },
  {
   "cell_type": "code",
   "execution_count": null,
   "metadata": {
    "collapsed": true
   },
   "outputs": [],
   "source": [
    "road_friction = (\n",
    "    road_raster\n",
    "    .reclassify({1:1}, data_type=int, replace_nodata_with=10)\n",
    ")"
   ]
  },
  {
   "cell_type": "code",
   "execution_count": null,
   "metadata": {},
   "outputs": [],
   "source": [
    "from geopyspark.geotrellis.render import PngRDD\n",
    "png = PngRDD.makePyramid(road_friction, 'viridis', end_zoom=1)\n",
    "png.cache()\n",
    "from geonotebook.wrappers import RddRasterData\n",
    "M.add_layer(RddRasterData(png, name='SRTM'))"
   ]
  },
  {
   "cell_type": "code",
   "execution_count": null,
   "metadata": {},
   "outputs": [],
   "source": [
    "png.unpersist()\n",
    "M.remove_layer(M.layers[0])"
   ]
  },
  {
   "cell_type": "code",
   "execution_count": null,
   "metadata": {},
   "outputs": [],
   "source": [
    "with open('population.geojson', encoding='utf-8') as data_file:\n",
    "    population_centers = MultiPoint([shape(geom['geometry']) for geom in json.load(data_file)['features']])\n",
    "\n",
    "with open('conflict.geojson', encoding='utf-8') as data_file:\n",
    "    conflict_centers=MultiPoint([shape(feature['geometry']) for feature in json.load(data_file)['features'] if feature['geometry'] != None])\n",
    "population_centers\n",
    "conflict_centers"
   ]
  },
  {
   "cell_type": "code",
   "execution_count": null,
   "metadata": {
    "collapsed": true
   },
   "outputs": [],
   "source": [
    "pop_cd = (\n",
    "    road_friction\n",
    "    .cost_distance(\n",
    "        geometries = population_centers, \n",
    "        max_distance=1400000.0\n",
    "    )\n",
    ")"
   ]
  },
  {
   "cell_type": "code",
   "execution_count": null,
   "metadata": {
    "collapsed": true
   },
   "outputs": [],
   "source": [
    "con_cd = (\n",
    "    road_friction\n",
    "    .cost_distance(\n",
    "        geometries = conflict_centers, \n",
    "        max_distance=1400000.0\n",
    "    )\n",
    ")"
   ]
  },
  {
   "cell_type": "code",
   "execution_count": null,
   "metadata": {
    "collapsed": true
   },
   "outputs": [],
   "source": [
    "from geopyspark.geotrellis.pyramid import Pyramid\n",
    "from geopyspark.geotrellis.constants import *\n",
    "pop_pp = Pyramid(pop_cd.pyramid(start_zoom=8, end_zoom=1))\n",
    "con_pp = Pyramid(con_cd.pyramid(start_zoom=8, end_zoom=1))"
   ]
  },
  {
   "cell_type": "code",
   "execution_count": null,
   "metadata": {},
   "outputs": [],
   "source": [
    "wo = (con_pp * 0.2) + (pop_pp * 0)\n",
    "png=wo.to_png_pyramid(color_ramp='Viridis')"
   ]
  },
  {
   "cell_type": "code",
   "execution_count": null,
   "metadata": {
    "collapsed": true
   },
   "outputs": [],
   "source": [
    "#wo.pyramid[8].lookup(136, 110)"
   ]
  },
  {
   "cell_type": "code",
   "execution_count": null,
   "metadata": {},
   "outputs": [],
   "source": [
    "from geonotebook.wrappers import RddRasterData\n",
    "M.add_layer(RddRasterData(png, name='WO'))"
   ]
  },
  {
   "cell_type": "code",
   "execution_count": null,
   "metadata": {},
   "outputs": [],
   "source": [
    "M.remove_layer(M.layers[0])"
   ]
  },
  {
   "cell_type": "code",
   "execution_count": null,
   "metadata": {},
   "outputs": [],
   "source": [
    "from geopyspark.geotrellis.render import PngRDD\n",
    "png = PngRDD.makePyramid(pop_cd, 'viridis', end_zoom=1)\n",
    "png.cache()\n",
    "from geonotebook.wrappers import RddRasterData\n",
    "M.add_layer(RddRasterData(png, name='SRTM'))"
   ]
  }
 ],
 "metadata": {
  "kernelspec": {
   "display_name": "GeoNotebook + GeoPySpark (local)",
   "language": "python",
   "name": "geonotebook3"
  },
  "language_info": {
   "codemirror_mode": {
    "name": "ipython",
    "version": 3
   },
   "file_extension": ".py",
   "mimetype": "text/x-python",
   "name": "python",
   "nbconvert_exporter": "python",
   "pygments_lexer": "ipython3",
   "version": "3.4.5"
  }
 },
 "nbformat": 4,
 "nbformat_minor": 2
}
