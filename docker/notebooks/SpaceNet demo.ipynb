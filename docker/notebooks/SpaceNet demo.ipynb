{
 "cells": [
  {
   "cell_type": "markdown",
   "metadata": {
    "collapsed": true
   },
   "source": [
    "# [SpaceNet](https://aws.amazon.com/public-datasets/spacenet/)"
   ]
  },
  {
   "cell_type": "markdown",
   "metadata": {},
   "source": [
    "\"The current SpaceNet corpus includes **thousands of square kilometers of high resolution imagery** collected from **DigitalGlobe’s commercial satellites** which includes **8-band multispectral data**. This dataset is being made public to advance the development of **algorithms to automatically extract geometric features such as roads, building footprints, and points of interest using satellite imagery**. The currently available Areas of Interest (AOI) are **Rio De Janeiro**, Paris, Las Vegas, Shanghai and Khartoum.\""
   ]
  },
  {
   "cell_type": "markdown",
   "metadata": {},
   "source": [
    "### 0. Dependencies\n",
    "The [AWS Command Line Interface (CLI)](https://aws.amazon.com/cli/) must be installed with an active AWS account. Configure the AWS CLI using `aws configure`."
   ]
  },
  {
   "cell_type": "markdown",
   "metadata": {},
   "source": [
    "### 1. Accessing the SpaceNet Data on AWS\n",
    "The imagery is [GeoTIFF](https://en.wikipedia.org/wiki/GeoTIFF) satellite imagery and corresponding [GeoJSON](https://en.wikipedia.org/wiki/GeoJSON) building footprints.\n",
    "\n",
    "The spacenet-dataset S3 bucket is provided as a [Requester Pays bucket](https://docs.aws.amazon.com/AmazonS3/latest/dev/RequesterPaysBuckets.html), so we use [Boto](https://boto3.readthedocs.io/en/latest/index.html), the Amazon Web Services (AWS) SDK for Python."
   ]
  },
  {
   "cell_type": "code",
   "execution_count": null,
   "metadata": {
    "collapsed": true
   },
   "outputs": [],
   "source": [
    "import boto3\n",
    "client = boto3.client(\"s3\")\n",
    "# See: https://boto3.readthedocs.io/en/latest/reference/customizations/s3.html#boto3.s3.transfer.S3Transfer\n",
    "transfer = boto3.s3.transfer.S3Transfer(client)\n",
    "\n",
    "bucket = \"spacenet-dataset\"\n",
    "# 20 tiffs listed in \"AOI_1_Rio_manifest.txt\".\n",
    "names = [\n",
    "    \"013022223310.tif\",\n",
    "    \"013022232021.tif\",\n",
    "    \"013022232201.tif\",\n",
    "    \"013022223131.tif\",\n",
    "    \"013022223113.tif\",\n",
    "    \"013022223103.tif\",\n",
    "    \"013022223133.tif\",\n",
    "    \"013022223132.tif\",\n",
    "    \"013022223301.tif\",\n",
    "    \"013022223112.tif\",\n",
    "    \"013022232020.tif\",\n",
    "    \"013022232200.tif\",\n",
    "    \"013022223123.tif\",\n",
    "    \"013022232022.tif\",\n",
    "    \"013022223130.tif\",\n",
    "    \"013022232002.tif\",\n",
    "    \"013022232023.tif\",\n",
    "    \"013022223311.tif\",\n",
    "    \"013022232003.tif\",\n",
    "    \"013022223121.tif\"\n",
    "]\n",
    "\n",
    "key_prefix = \"AOI_1_Rio/srcData/mosaic_8band/\"\n",
    "!mkdir -p /tmp/spacenet-data\n",
    "filename_prefix = \"/tmp/spacenet-data/\"\n",
    "\n",
    "key_filename_tuples = [\n",
    "    (key_prefix + name, filename_prefix + name)\n",
    "    for name in names]\n",
    "\n",
    "# Download takes around 15 minutes.\n",
    "import time\n",
    "\n",
    "start = time.time()\n",
    "for (key, filename) in key_filename_tuples:\n",
    "    transfer.download_file(\n",
    "        bucket=bucket, key=key, filename=filename,\n",
    "        extra_args={\"RequestPayer\":\"requester\"}\n",
    "    )\n",
    "end = time.time()\n",
    "download_time = end - start\n",
    "print(\"Download time: %s\" % download_time)"
   ]
  },
  {
   "cell_type": "markdown",
   "metadata": {},
   "source": [
    "## 2. Ingest 8-Band Images with GeoPySpark\n",
    "\n",
    "[GeoPySpark](https://github.com/locationtech-labs/geopyspark) is a Python language binding library of the Scala library, [GeoTrellis](https://github.com/locationtech/geotrellis), which reads, writes, and operates on raster data as fast as possible using Spark.\n",
    "\n",
    "Refer to [Ingesting a Grayscale Image](https://geopyspark.readthedocs.io/en/latest/tutorials/greyscale_ingest_example.html) tutorial for code breakdown."
   ]
  },
  {
   "cell_type": "code",
   "execution_count": null,
   "metadata": {
    "collapsed": true
   },
   "outputs": [],
   "source": [
    "from pyspark import SparkContext\n",
    "from geopyspark import geopyspark_conf\n",
    "conf = geopyspark_conf(\"local[*]\", \"spacenet-ingest\")\n",
    "geopysc = SparkContext.getOrCreate(conf)"
   ]
  },
  {
   "cell_type": "code",
   "execution_count": null,
   "metadata": {
    "collapsed": true
   },
   "outputs": [],
   "source": [
    "import time\n",
    "\n",
    "start = time.time()\n",
    "\n",
    "from geopyspark.geotrellis.geotiff import get\n",
    "from geopyspark.geotrellis.constants import SPATIAL, ZOOM\n",
    "from geopyspark.geotrellis.catalog import write\n",
    "\n",
    "# Read the GeoTiff locally\n",
    "rdd = get(geopysc, SPATIAL, \"/tmp/spacenet-data\", num_partitions=5000, max_tile_size=1024)\n",
    "\n",
    "metadata = rdd.collect_metadata(tile_size=1024)\n",
    "\n",
    "# tile the rdd to the layout defined in the metadata\n",
    "laid_out = rdd.tile_to_layout(metadata)\n",
    "\n",
    "# reproject the tiled rasters using a ZoomedLayoutScheme\n",
    "reprojected = laid_out.reproject(\"EPSG:3857\", scheme=ZOOM).cache().repartition(5000)\n",
    "\n",
    "# pyramid the TiledRasterRDD to create 12 new TiledRasterRDDs\n",
    "# one for each zoom level\n",
    "pyramided = reprojected.pyramid(start_zoom=12, end_zoom=1)\n",
    "\n",
    "# Save each TiledRasterRDD locally\n",
    "for tiled in pyramided:\n",
    "    write(\"file:///tmp/spacenet-catalog\", \"spacenet-ingest\", tiled)\n",
    "\n",
    "end = time.time()\n",
    "ingest_time = end - start\n",
    "print(\"Ingest time: %s\" % ingest_time)"
   ]
  },
  {
   "cell_type": "code",
   "execution_count": null,
   "metadata": {
    "collapsed": true
   },
   "outputs": [],
   "source": []
  }
 ],
 "metadata": {
  "kernelspec": {
   "display_name": "GeoNotebook + GeoPySpark",
   "language": "python",
   "name": "geonotebook3"
  },
  "language_info": {
   "codemirror_mode": {
    "name": "ipython",
    "version": 3
   },
   "file_extension": ".py",
   "mimetype": "text/x-python",
   "name": "python",
   "nbconvert_exporter": "python",
   "pygments_lexer": "ipython3",
   "version": "3.4.5"
  }
 },
 "nbformat": 4,
 "nbformat_minor": 2
}
