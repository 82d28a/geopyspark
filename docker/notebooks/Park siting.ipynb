{
 "cells": [
  {
   "cell_type": "code",
   "execution_count": null,
   "metadata": {
    "collapsed": true
   },
   "outputs": [],
   "source": [
    "from geopyspark.geopycontext import GeoPyContext\n",
    "from geopyspark.geotrellis.constants import SPATIAL, NODATAINT, MAX, SQUARE, EXACT, ZOOM\n",
    "from geopyspark.geotrellis.rdd import TiledRasterRDD\n",
    "from geopyspark.geotrellis.geotiff_rdd import get\n",
    "from geopyspark.geotrellis.render import PngRDD\n",
    "from geonotebook.wrappers import RddRasterData, VectorData"
   ]
  },
  {
   "cell_type": "code",
   "execution_count": null,
   "metadata": {
    "collapsed": true
   },
   "outputs": [],
   "source": [
    "import gdal"
   ]
  },
  {
   "cell_type": "code",
   "execution_count": null,
   "metadata": {},
   "outputs": [],
   "source": [
    "import os\n",
    "os.environ['GEOPYSPARK_JARS_PATH']"
   ]
  },
  {
   "cell_type": "code",
   "execution_count": null,
   "metadata": {
    "collapsed": true
   },
   "outputs": [],
   "source": [
    "from pyspark import SparkContext\n",
    "from geopyspark import geopyspark_conf\n",
    "orig_conf = geopyspark_conf(appName=\"testing\")\n",
    "sc = SparkContext(conf=orig_conf)"
   ]
  },
  {
   "cell_type": "code",
   "execution_count": null,
   "metadata": {},
   "outputs": [],
   "source": [
    "sc.getConf().getAll()"
   ]
  },
  {
   "cell_type": "code",
   "execution_count": null,
   "metadata": {},
   "outputs": [],
   "source": [
    "M.set_center(-122.1, 37.75, 10)"
   ]
  },
  {
   "cell_type": "code",
   "execution_count": null,
   "metadata": {
    "collapsed": true
   },
   "outputs": [],
   "source": [
    "import fiona\n",
    "from shapely.geometry import *"
   ]
  },
  {
   "cell_type": "code",
   "execution_count": null,
   "metadata": {},
   "outputs": [],
   "source": [
    "!curl -o /tmp/bart.geojson https://s3.amazonaws.com/geopyspark-demo/bayarea/bart.geojson\n",
    "!curl -o /tmp/school.geojson https://s3.amazonaws.com/geopyspark-demo/bayarea/school.geojson\n",
    "!curl -o /tmp/parks.geojson https://s3.amazonaws.com/geopyspark-demo/bayarea/parks.geojson"
   ]
  },
  {
   "cell_type": "code",
   "execution_count": null,
   "metadata": {
    "collapsed": true
   },
   "outputs": [],
   "source": [
    "with fiona.open(\"/tmp/bart.geojson\") as source:\n",
    "    bart_crs = source.crs['init']\n",
    "    bart = MultiPoint([shape(f['geometry']) for f in source])\n",
    "\n",
    "with fiona.open(\"/tmp/school.geojson\") as source:\n",
    "    schools_crs = source.crs['init']\n",
    "    schools = MultiPoint([shape(f['geometry']) for f in source])\n",
    "\n",
    "with fiona.open(\"/tmp/parks.geojson\") as source:\n",
    "    parks_crs = source.crs['init']\n",
    "    parks = MultiPolygon([shape(f['geometry']) for f in source])"
   ]
  },
  {
   "cell_type": "code",
   "execution_count": null,
   "metadata": {},
   "outputs": [],
   "source": [
    "from geopyspark.geotrellis.euclidean_distance import euclidean_distance\n",
    "bart_layer = euclidean_distance(sc, bart, bart_crs, 12)\n",
    "schools_layer = euclidean_distance(sc, schools, schools_crs, 12)\n",
    "parks_layer = euclidean_distance(sc, parks, parks_crs, 12)"
   ]
  },
  {
   "cell_type": "code",
   "execution_count": null,
   "metadata": {
    "collapsed": true
   },
   "outputs": [],
   "source": [
    "from pyspark.storagelevel import StorageLevel"
   ]
  },
  {
   "cell_type": "code",
   "execution_count": null,
   "metadata": {},
   "outputs": [],
   "source": [
    "bart_layer.persist(StorageLevel.MEMORY_AND_DISK)\n",
    "schools_layer.persist(StorageLevel.MEMORY_AND_DISK)\n",
    "parks_layer.persist(StorageLevel.MEMORY_AND_DISK)"
   ]
  },
  {
   "cell_type": "code",
   "execution_count": null,
   "metadata": {
    "collapsed": true
   },
   "outputs": [],
   "source": [
    "weighted_layer = -1 * bart_layer - schools_layer + 3 * parks_layer"
   ]
  },
  {
   "cell_type": "code",
   "execution_count": null,
   "metadata": {},
   "outputs": [],
   "source": [
    "weighted_layer.persist(StorageLevel.MEMORY_AND_DISK)"
   ]
  },
  {
   "cell_type": "code",
   "execution_count": null,
   "metadata": {},
   "outputs": [],
   "source": [
    "# The following operation takes about 90 seconds on a reasonably capable 4-core laptop\n",
    "png_layer = PngRDD.makePyramid(weighted_layer, \"viridis\", end_zoom=8)"
   ]
  },
  {
   "cell_type": "code",
   "execution_count": null,
   "metadata": {
    "collapsed": true
   },
   "outputs": [],
   "source": [
    "png_layer.cache()"
   ]
  },
  {
   "cell_type": "code",
   "execution_count": null,
   "metadata": {
    "collapsed": true,
    "scrolled": true
   },
   "outputs": [],
   "source": [
    "M.add_layer(RddRasterData(png_layer, name=\"Weighted\"))\n",
    "M.add_layer(VectorData(\"/tmp/bart.geojson\"), name=\"BART stops\")\n",
    "M.add_layer(VectorData(\"/tmp/parks.geojson\"), name=\"Parks\")"
   ]
  },
  {
   "cell_type": "code",
   "execution_count": null,
   "metadata": {
    "collapsed": true
   },
   "outputs": [],
   "source": [
    "M.layers"
   ]
  },
  {
   "cell_type": "code",
   "execution_count": null,
   "metadata": {
    "collapsed": true
   },
   "outputs": [],
   "source": [
    "M.remove_layer(M.layers[2])\n",
    "M.remove_layer(M.layers[1])\n",
    "M.remove_layer(M.layers[0])"
   ]
  },
  {
   "cell_type": "code",
   "execution_count": null,
   "metadata": {
    "collapsed": true
   },
   "outputs": [],
   "source": []
  }
 ],
 "metadata": {
  "kernelspec": {
   "display_name": "GeoNotebook + GeoPySpark (local)",
   "language": "python",
   "name": "geonotebook3"
  },
  "language_info": {
   "codemirror_mode": {
    "name": "ipython",
    "version": 3
   },
   "file_extension": ".py",
   "mimetype": "text/x-python",
   "name": "python",
   "nbconvert_exporter": "python",
   "pygments_lexer": "ipython3",
   "version": "3.4.5"
  }
 },
 "nbformat": 4,
 "nbformat_minor": 2
}
