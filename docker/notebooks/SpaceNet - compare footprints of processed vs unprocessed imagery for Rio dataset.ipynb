{
 "cells": [
  {
   "cell_type": "markdown",
   "metadata": {},
   "source": [
    "# [SpaceNet on AWS](https://aws.amazon.com/public-datasets/spacenet/)\n",
    "[SpaceNet](https://spacenetchallenge.github.io/) is a corpus of commercial satellite imagery and labeled training data being made available at no cost to the public to foster innovation in the development of computer vision algorithms to automatically extract information from remote sensing data.\n",
    "\n",
    "The current SpaceNet corpus includes thousands of square kilometers of high resolution imagery collected from DigitalGlobe’s commercial satellites which includes 8-band multispectral data. This dataset is being made public to advance the development of algorithms to automatically extract geometric features such as roads, building footprints, and points of interest using satellite imagery. The currently available Areas of Interest (AOI) are Rio De Janeiro, Paris, Las Vegas, Shanghai and Khartoum. Please see the data catalog below for more information."
   ]
  },
  {
   "cell_type": "code",
   "execution_count": 1,
   "metadata": {
    "collapsed": true
   },
   "outputs": [],
   "source": [
    "from geopyspark.geopycontext import GeoPyContext\n",
    "geopysc = GeoPyContext(appName=\"SpaceNet\")"
   ]
  },
  {
   "cell_type": "code",
   "execution_count": 2,
   "metadata": {
    "collapsed": true
   },
   "outputs": [],
   "source": [
    "from shapely.geometry import Polygon\n",
    "from functools import partial\n",
    "import pyproj\n",
    "from shapely.ops import transform\n",
    "import os\n",
    "\n",
    "# data local bc s3 request payer and rasterio don't play well\n",
    "# (vsis3/... DNE)\n",
    "def get_catalog_uri():\n",
    "    cwd = os.getcwd()\n",
    "    data_dir = cwd + \"/\"\n",
    "    bucket = \"spacenet-dataset/\"\n",
    "    aoi = \"AOI_1_Rio/\"\n",
    "    catalog_uri = data_dir + bucket + aoi\n",
    "    return catalog_uri\n",
    "\n",
    "def bounds_to_shape(bounds):\n",
    "    return Polygon([(bounds.left, bounds.top), \n",
    "                    (bounds.right, bounds.top),\n",
    "                    (bounds.right, bounds.bottom),\n",
    "                    (bounds.left, bounds.bottom)])\n",
    "\n",
    "def reprojected(shape):\n",
    "    project = partial(\n",
    "        pyproj.transform,\n",
    "        pyproj.Proj(init='epsg:32633'),\n",
    "        pyproj.Proj(init='epsg:4326'))\n",
    "    return transform(project, shape)"
   ]
  },
  {
   "cell_type": "code",
   "execution_count": 3,
   "metadata": {
    "collapsed": true
   },
   "outputs": [],
   "source": [
    "import rasterio\n",
    "from shapely.ops import cascaded_union\n",
    "from geonotebook.wrappers.vector import GeoJsonData\n",
    "from shapely.geometry import mapping\n",
    "from geopyspark.geotrellis.catalog import _construct_catalog, _mapped_cached\n",
    "\n",
    "def read_bounding_boxes_from_raster_data(prefix):\n",
    "    catalog_uri = get_catalog_uri()\n",
    "    def get_bounds(prefix, key):\n",
    "        src = rasterio.open('%s%s%s' % (catalog_uri, prefix, key))\n",
    "        try:\n",
    "            bounds = bounds_to_shape(src.bounds)\n",
    "#             ll_bounds = reprojected(bounds)\n",
    "            return bounds\n",
    "        finally:\n",
    "            src.close()\n",
    "\n",
    "    return [get_bounds(prefix, key) \n",
    "            for key in os.listdir(catalog_uri + prefix) \n",
    "            if key.endswith('.tif')]\n",
    "\n",
    "def union_polygons_via_shapely(polygons):\n",
    "    return cascaded_union(polygons)\n",
    "\n",
    "def center_map(polygon_union):\n",
    "    M.set_center(polygon_union.centroid.x, polygon_union.centroid.y, 11)\n",
    "\n",
    "def save_polygon_union_as_geojson(polygon_union):\n",
    "    vd = GeoJsonData(mapping(polygon_union))\n",
    "    return vd\n",
    "\n",
    "def add_vectordata_layer(vd, prefix, color):\n",
    "    l = M.add_layer(vd, name=prefix, colors=[color])\n",
    "    \n",
    "def get_footprint_of_imagery(prefix, color):\n",
    "    bounding_boxes = read_bounding_boxes_from_raster_data(prefix)\n",
    "    polygon_union = union_polygons_via_shapely(bounding_boxes)\n",
    "    center_map(polygon_union)\n",
    "    vd = save_polygon_union_as_geojson(polygon_union)\n",
    "    add_vectordata_layer(vd, prefix, color)"
   ]
  },
  {
   "cell_type": "code",
   "execution_count": 4,
   "metadata": {
    "collapsed": true
   },
   "outputs": [],
   "source": [
    "RED = 0xFF0000\n",
    "GREEN = 0x00FF00\n",
    "# Compressed 3band 200m x 200m tiles with associated building foot print labels\n",
    "processed_prefix = \"processedData/processedBuildingLabels/3band/\"\n",
    "# 3band (RGB) Raster Mosaic for Rio De Jenairo area (2784 sq KM) collected by WorldView-2\n",
    "src_prefix = \"srcData/rasterData/3-Band/\""
   ]
  },
  {
   "cell_type": "code",
   "execution_count": 5,
   "metadata": {
    "collapsed": true
   },
   "outputs": [],
   "source": [
    "get_footprint_of_imagery(processed_prefix, RED)"
   ]
  },
  {
   "cell_type": "code",
   "execution_count": 6,
   "metadata": {
    "collapsed": true
   },
   "outputs": [],
   "source": [
    "get_footprint_of_imagery(src_prefix, GREEN)"
   ]
  },
  {
   "cell_type": "code",
   "execution_count": null,
   "metadata": {
    "collapsed": true
   },
   "outputs": [],
   "source": []
  }
 ],
 "metadata": {
  "kernelspec": {
   "display_name": "GeoNotebook + GeoPySpark (local)",
   "language": "python",
   "name": "geonotebook3"
  },
  "language_info": {
   "codemirror_mode": {
    "name": "ipython",
    "version": 3
   },
   "file_extension": ".py",
   "mimetype": "text/x-python",
   "name": "python",
   "nbconvert_exporter": "python",
   "pygments_lexer": "ipython3",
   "version": "3.4.5"
  }
 },
 "nbformat": 4,
 "nbformat_minor": 2
}
