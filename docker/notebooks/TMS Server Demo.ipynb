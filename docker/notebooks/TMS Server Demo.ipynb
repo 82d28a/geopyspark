{
 "cells": [
  {
   "cell_type": "code",
   "execution_count": 18,
   "metadata": {
    "collapsed": true
   },
   "outputs": [],
   "source": [
    "from geopyspark.geopycontext import GeoPyContext\n",
    "from geopyspark.geotrellis.constants import SPATIAL, NODATAINT, MAX, SQUARE, EXACT\n",
    "from geopyspark.geotrellis.rdd import TiledRasterRDD\n",
    "\n",
    "import json\n",
    "import shapely\n",
    "from shapely.geometry import shape, asShape, MultiPoint, MultiLineString"
   ]
  },
  {
   "cell_type": "code",
   "execution_count": 2,
   "metadata": {
    "collapsed": true
   },
   "outputs": [],
   "source": [
    "geopysc = GeoPyContext(appName=\"nlcd\", master=\"local[*]\")"
   ]
  },
  {
   "cell_type": "markdown",
   "metadata": {},
   "source": [
    "# View NLCD from GeoTrellis Catalog"
   ]
  },
  {
   "cell_type": "code",
   "execution_count": 5,
   "metadata": {
    "collapsed": true
   },
   "outputs": [],
   "source": [
    "from geopyspark.geotrellis.tms import *\n",
    "from geopyspark.geotrellis.color import ColorMap\n",
    "from geonotebook.wrappers.raster import TMSRasterData\n",
    "\n",
    "nlcd_layer_name = \"nlcd-tms-epsg3857\"\n",
    "\n",
    "nlcd = s3_catalog_tms_server(\n",
    "    geopysc, \n",
    "    \"azavea-datahub\", \"catalog\", \n",
    "    nlcd_layer_name, \n",
    "    ColorMap.nlcd_colormap(geopysc))"
   ]
  },
  {
   "cell_type": "code",
   "execution_count": 6,
   "metadata": {},
   "outputs": [
    {
     "name": "stdout",
     "output_type": "stream",
     "text": [
      "Added TMS server at port 60116\n"
     ]
    },
    {
     "data": {
      "text/plain": [
       "<promise.promise.Promise at 0x7efffa800f98>"
      ]
     },
     "execution_count": 6,
     "metadata": {},
     "output_type": "execute_result"
    }
   ],
   "source": [
    "M.add_layer(TMSRasterData(nlcd), name=\"nlcd\")"
   ]
  },
  {
   "cell_type": "markdown",
   "metadata": {},
   "source": [
    "# Read Chattanooga NLCD Tiles"
   ]
  },
  {
   "cell_type": "code",
   "execution_count": 30,
   "metadata": {
    "scrolled": true
   },
   "outputs": [
    {
     "data": {
      "text/plain": [
       "<promise.promise.Promise at 0x7efff93850b8>"
      ]
     },
     "execution_count": 30,
     "metadata": {},
     "output_type": "execute_result"
    }
   ],
   "source": [
    "M.set_center(-85.2934168635424, 35.02445474101138, 9)"
   ]
  },
  {
   "cell_type": "code",
   "execution_count": 31,
   "metadata": {},
   "outputs": [
    {
     "name": "stdout",
     "output_type": "stream",
     "text": [
      "  % Total    % Received % Xferd  Average Speed   Time    Time     Time  Current\n",
      "                                 Dload  Upload   Total   Spent    Left  Speed\n",
      "100  881k  100  881k    0     0  1258k      0 --:--:-- --:--:-- --:--:-- 1257k\n"
     ]
    },
    {
     "data": {
      "text/plain": [
       "<promise.promise.Promise at 0x7f00261d2e10>"
      ]
     },
     "execution_count": 31,
     "metadata": {},
     "output_type": "execute_result"
    }
   ],
   "source": [
    "!curl -o /tmp/mask.json https://s3.amazonaws.com/chattademo/chatta_mask.json\n",
    "\n",
    "from geonotebook.wrappers import VectorData\n",
    "vd = VectorData(\"/tmp/mask.json\")\n",
    "name = \"Outline\"\n",
    "M.add_layer(vd, name=name)"
   ]
  },
  {
   "cell_type": "code",
   "execution_count": null,
   "metadata": {},
   "outputs": [],
   "source": [
    "from functools import partial\n",
    "import fiona\n",
    "import json\n",
    "import pyproj\n",
    "from shapely.geometry import mapping, shape\n",
    "from shapely.ops import transform\n",
    "\n",
    "project = partial(\n",
    "    pyproj.transform,\n",
    "    pyproj.Proj(init='epsg:4326'),\n",
    "    pyproj.Proj(init='epsg:3857'))\n",
    "\n",
    "txt = open('/tmp/mask.json').read()\n",
    "js = json.loads(txt)\n",
    "geom = shape(js)\n",
    "center = geom.centroid\n",
    "chatta_poly = transform(project, geom)\n",
    "chatta_poly"
   ]
  },
  {
   "cell_type": "code",
   "execution_count": 10,
   "metadata": {
    "collapsed": true
   },
   "outputs": [],
   "source": [
    "from geopyspark.geotrellis import catalog\n",
    "\n",
    "MAX_ZOOM = 12\n",
    "query_rdd = catalog.query(\n",
    "    geopysc, SPATIAL, \n",
    "    \"s3://azavea-datahub/catalog\", nlcd_layer_name, \n",
    "    MAX_ZOOM, intersects=chatta_poly)\n",
    "\n",
    "chatta_rdd = query_rdd.convert_data_type(\"int8\").cache()"
   ]
  },
  {
   "cell_type": "markdown",
   "metadata": {},
   "source": [
    "## Work with Chattanooga RDD"
   ]
  },
  {
   "cell_type": "code",
   "execution_count": 12,
   "metadata": {},
   "outputs": [
    {
     "data": {
      "text/plain": [
       "(12.0, 96.0)"
      ]
     },
     "execution_count": 12,
     "metadata": {},
     "output_type": "execute_result"
    }
   ],
   "source": [
    "chatta_rdd.get_min_max()"
   ]
  },
  {
   "cell_type": "code",
   "execution_count": 37,
   "metadata": {},
   "outputs": [
    {
     "data": {
      "text/plain": [
       "Extent(xmin=-14465321.514629832, ymin=2479844.762589966, xmax=-7084112.559414816, ymax=6960327.26565533)"
      ]
     },
     "execution_count": 37,
     "metadata": {},
     "output_type": "execute_result"
    }
   ],
   "source": [
    "chatta_rdd.layer_metadata.extent"
   ]
  },
  {
   "cell_type": "code",
   "execution_count": 28,
   "metadata": {
    "collapsed": true
   },
   "outputs": [],
   "source": [
    "chatta_py_rdd = chatta_rdd.to_numpy_rdd()"
   ]
  }
 ],
 "metadata": {
  "kernelspec": {
   "display_name": "GeoNotebook + GeoPySpark (local)",
   "language": "python",
   "name": "geonotebook3"
  },
  "language_info": {
   "codemirror_mode": {
    "name": "ipython",
    "version": 3
   },
   "file_extension": ".py",
   "mimetype": "text/x-python",
   "name": "python",
   "nbconvert_exporter": "python",
   "pygments_lexer": "ipython3",
   "version": "3.4.5"
  }
 },
 "nbformat": 4,
 "nbformat_minor": 2
}
