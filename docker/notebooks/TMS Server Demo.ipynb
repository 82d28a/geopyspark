{
 "cells": [
  {
   "cell_type": "code",
   "execution_count": null,
   "metadata": {
    "collapsed": true
   },
   "outputs": [],
   "source": [
    "from geopyspark.geopycontext import GeoPyContext\n",
    "from geopyspark.geotrellis.constants import SPATIAL, NODATAINT, MAX, SQUARE, EXACT\n",
    "from geopyspark.geotrellis.rdd import TiledRasterRDD\n",
    "\n",
    "import json\n",
    "import shapely\n",
    "from shapely.geometry import shape, asShape, MultiPoint, MultiLineString"
   ]
  },
  {
   "cell_type": "code",
   "execution_count": null,
   "metadata": {
    "collapsed": true
   },
   "outputs": [],
   "source": [
    "geopysc = GeoPyContext(appName=\"libya\", master=\"local[*]\")"
   ]
  },
  {
   "cell_type": "code",
   "execution_count": null,
   "metadata": {},
   "outputs": [],
   "source": [
    "from geopyspark.geotrellis.tms import make_s3_tms, remote_tms_server\n",
    "import geopyspark.geotrellis.color as Color\n",
    "\n",
    "watercolor = remote_tms_server(geopysc, \"http://tile.stamen.com/watercolor/{z}/{x}/{y}.jpg\")\n",
    "server = make_s3_tms(geopysc, \"azavea-datahub\", \"catalog\", \"nlcd-tms-epsg3857\", Color.ColorMap.nlcd_colormap(geopysc))"
   ]
  },
  {
   "cell_type": "code",
   "execution_count": null,
   "metadata": {
    "collapsed": true
   },
   "outputs": [],
   "source": [
    "from geonotebook.wrappers.raster import TMSRasterData"
   ]
  },
  {
   "cell_type": "code",
   "execution_count": null,
   "metadata": {},
   "outputs": [],
   "source": [
    "M.add_layer(TMSRasterData(watercolor), name=\"watercolor\")"
   ]
  },
  {
   "cell_type": "code",
   "execution_count": null,
   "metadata": {},
   "outputs": [],
   "source": [
    "M.add_layer(TMSRasterData(server), name=\"TMS\")"
   ]
  },
  {
   "cell_type": "code",
   "execution_count": null,
   "metadata": {},
   "outputs": [],
   "source": [
    "M.remove_layer(M.layers[0])"
   ]
  },
  {
   "cell_type": "code",
   "execution_count": null,
   "metadata": {
    "collapsed": true
   },
   "outputs": [],
   "source": [
    "from geopyspark.geotrellis.tms import remote_tms_server\n",
    "\n",
    "watercolor = remote_tms_server(geopysc, \"http://tile.stamen.com/watercolor/{z}/{x}/{y}.jpg\")"
   ]
  },
  {
   "cell_type": "code",
   "execution_count": null,
   "metadata": {
    "collapsed": true
   },
   "outputs": [],
   "source": []
  }
 ],
 "metadata": {
  "kernelspec": {
   "display_name": "GeoNotebook + GeoPySpark (local)",
   "language": "python",
   "name": "geonotebook3"
  },
  "language_info": {
   "codemirror_mode": {
    "name": "ipython",
    "version": 3
   },
   "file_extension": ".py",
   "mimetype": "text/x-python",
   "name": "python",
   "nbconvert_exporter": "python",
   "pygments_lexer": "ipython3",
   "version": "3.4.5"
  }
 },
 "nbformat": 4,
 "nbformat_minor": 2
}
