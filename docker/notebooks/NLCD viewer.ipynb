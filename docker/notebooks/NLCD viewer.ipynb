{
 "cells": [
  {
   "cell_type": "code",
   "execution_count": 1,
   "metadata": {
    "collapsed": true
   },
   "outputs": [],
   "source": [
    "from pyspark import SparkContext\n",
    "from geopyspark.geopycontext import GeoPyContext\n",
    "from geopyspark.geotrellis.catalog import read, read_value, query, write\n",
    "from geopyspark.geotrellis.constants import SPATIAL, ZOOM, TILE\n",
    "from geopyspark.geotrellis.geotiff_rdd import get\n",
    "from geopyspark.geotrellis.rdd import RasterRDD, TiledRasterRDD\n",
    "from geonotebook.vis.geotrellis.render_methods import render_nlcd, single_band_render_from_color_map\n",
    "from geonotebook.wrappers import GeoTrellisCatalogLayerData, RddRasterData\n",
    "import numpy as np"
   ]
  },
  {
   "cell_type": "markdown",
   "metadata": {},
   "source": [
    "## Vieweing NLCD"
   ]
  },
  {
   "cell_type": "code",
   "execution_count": 2,
   "metadata": {},
   "outputs": [
    {
     "data": {
      "text/plain": [
       "<promise.promise.Promise at 0x7f9f342867b8>"
      ]
     },
     "execution_count": 2,
     "metadata": {},
     "output_type": "execute_result"
    }
   ],
   "source": [
    "M.set_center(-120.32, 47.84, 7)"
   ]
  },
  {
   "cell_type": "code",
   "execution_count": 4,
   "metadata": {
    "collapsed": true
   },
   "outputs": [],
   "source": [
    "sc = SparkContext(appName=\"NLCD Viewer\")\n",
    "geopysc = GeoPyContext(sc)"
   ]
  },
  {
   "cell_type": "code",
   "execution_count": 5,
   "metadata": {
    "collapsed": true
   },
   "outputs": [],
   "source": [
    "catalog_uri = \"s3://azavea-datahub/catalog\"\n",
    "layer_name = \"us-ned-tms-epsg3857\""
   ]
  },
  {
   "cell_type": "code",
   "execution_count": 6,
   "metadata": {},
   "outputs": [],
   "source": [
    "data = GeoTrellisCatalogLayerData(geopysc, \n",
    "                                  catalog_uri, \n",
    "                                  layer_name,\n",
    "                                  SPATIAL)"
   ]
  },
  {
   "cell_type": "code",
   "execution_count": 7,
   "metadata": {},
   "outputs": [
    {
     "data": {
      "text/plain": [
       "<promise.promise.Promise at 0x7fec841a0160>"
      ]
     },
     "execution_count": 7,
     "metadata": {},
     "output_type": "execute_result"
    },
    {
     "name": "stderr",
     "output_type": "stream",
     "text": [
      "::1 - - [2017-05-19 19:51:26] \"GET /tile/4/7/7.png HTTP/1.1\" 500 2940 1.246742\n",
      "::1 - - [2017-05-19 19:51:26] \"GET /tile/4/7/8.png HTTP/1.1\" 500 2940 0.036779\n",
      "::1 - - [2017-05-19 19:51:26] \"GET /tile/4/8/7.png HTTP/1.1\" 500 2940 0.026858\n",
      "::1 - - [2017-05-19 19:51:26] \"GET /tile/4/6/8.png HTTP/1.1\" 500 2940 0.121229\n",
      "::1 - - [2017-05-19 19:51:26] \"GET /tile/4/8/6.png HTTP/1.1\" 500 2940 0.025681\n",
      "::1 - - [2017-05-19 19:51:27] \"GET /tile/4/7/6.png HTTP/1.1\" 500 2940 0.074868\n",
      "::1 - - [2017-05-19 19:51:27] \"GET /tile/4/8/9.png HTTP/1.1\" 500 2940 0.024157\n",
      "::1 - - [2017-05-19 19:51:27] \"GET /tile/4/9/7.png HTTP/1.1\" 500 2940 0.025273\n",
      "::1 - - [2017-05-19 19:51:27] \"GET /tile/4/9/8.png HTTP/1.1\" 500 2940 0.036467\n",
      "::1 - - [2017-05-19 19:51:27] \"GET /tile/4/9/6.png HTTP/1.1\" 500 2940 0.088020\n",
      "::1 - - [2017-05-19 19:51:27] \"GET /tile/4/6/6.png HTTP/1.1\" 500 2940 0.076155\n",
      "::1 - - [2017-05-19 19:51:27] \"GET /tile/4/6/9.png HTTP/1.1\" 500 2940 0.026458\n",
      "::1 - - [2017-05-19 19:51:27] \"GET /tile/4/9/9.png HTTP/1.1\" 500 2940 0.124678\n",
      "::1 - - [2017-05-19 19:51:27] \"GET /tile/4/8/10.png HTTP/1.1\" 500 2942 0.072947\n",
      "::1 - - [2017-05-19 19:51:27] \"GET /tile/4/7/10.png HTTP/1.1\" 500 2942 0.030615\n",
      "::1 - - [2017-05-19 19:51:27] \"GET /tile/4/6/7.png HTTP/1.1\" 500 2940 0.084908\n",
      "::1 - - [2017-05-19 19:51:27] \"GET /tile/4/7/9.png HTTP/1.1\" 500 2778 0.031880\n",
      "::1 - - [2017-05-19 19:51:27] \"GET /tile/4/8/8.png HTTP/1.1\" 500 2778 0.176781\n",
      "::1 - - [2017-05-19 19:51:27] \"GET /tile/3/4/4.png HTTP/1.1\" 500 2778 0.094285\n",
      "::1 - - [2017-05-19 19:51:28] \"GET /tile/3/3/4.png HTTP/1.1\" 500 2778 0.024532\n",
      "::1 - - [2017-05-19 19:51:28] \"GET /tile/3/4/3.png HTTP/1.1\" 500 2778 0.023854\n",
      "::1 - - [2017-05-19 19:51:28] \"GET /tile/3/3/3.png HTTP/1.1\" 500 2778 0.024139\n",
      "::1 - - [2017-05-19 19:51:28] \"GET /tile/3/3/5.png HTTP/1.1\" 500 2778 0.024933\n",
      "::1 - - [2017-05-19 19:51:28] \"GET /tile/2/2/2.png HTTP/1.1\" 500 2778 0.050846\n",
      "::1 - - [2017-05-19 19:51:28] \"GET /tile/2/1/2.png HTTP/1.1\" 500 2778 0.074096\n",
      "::1 - - [2017-05-19 19:51:28] \"GET /tile/2/2/1.png HTTP/1.1\" 500 2778 0.024748\n",
      "::1 - - [2017-05-19 19:51:28] \"GET /tile/2/1/1.png HTTP/1.1\" 500 2778 0.026051\n",
      "::1 - - [2017-05-19 19:51:28] \"GET /tile/2/1/3.png HTTP/1.1\" 500 2778 0.073387\n",
      "::1 - - [2017-05-19 19:51:28] \"GET /tile/2/2/3.png HTTP/1.1\" 500 2778 0.154749\n",
      "::1 - - [2017-05-19 19:51:28] \"GET /tile/2/0/2.png HTTP/1.1\" 500 2778 0.136923\n",
      "::1 - - [2017-05-19 19:51:28] \"GET /tile/2/3/2.png HTTP/1.1\" 500 2778 0.025529\n",
      "::1 - - [2017-05-19 19:51:28] \"GET /tile/2/0/3.png HTTP/1.1\" 500 2778 0.067691\n",
      "::1 - - [2017-05-19 19:51:28] \"GET /tile/2/0/1.png HTTP/1.1\" 500 2778 0.030740\n",
      "::1 - - [2017-05-19 19:51:28] \"GET /tile/2/1/0.png HTTP/1.1\" 500 2778 0.025681\n",
      "::1 - - [2017-05-19 19:51:29] \"GET /tile/2/2/0.png HTTP/1.1\" 500 2778 0.069927\n",
      "::1 - - [2017-05-19 19:51:29] \"GET /tile/2/0/0.png HTTP/1.1\" 200 638 0.572299\n",
      "::1 - - [2017-05-19 19:51:29] \"GET /tile/2/3/1.png HTTP/1.1\" 500 2778 0.027072\n",
      "::1 - - [2017-05-19 19:51:29] \"GET /tile/2/3/0.png HTTP/1.1\" 500 2778 0.032423\n",
      "::1 - - [2017-05-19 19:51:29] \"GET /tile/2/3/3.png HTTP/1.1\" 500 2778 0.041664\n",
      "::1 - - [2017-05-19 19:51:29] \"GET /tile/3/4/5.png HTTP/1.1\" 500 2778 0.029664\n",
      "::1 - - [2017-05-19 19:51:29] \"GET /tile/3/5/4.png HTTP/1.1\" 500 2778 0.039778\n",
      "::1 - - [2017-05-19 19:51:29] \"GET /tile/2/3/1.png HTTP/1.1\" 500 2778 0.026031\n",
      "::1 - - [2017-05-19 19:51:29] \"GET /tile/2/3/2.png HTTP/1.1\" 500 2778 0.025194\n",
      "::1 - - [2017-05-19 19:51:29] \"GET /tile/2/3/0.png HTTP/1.1\" 500 2778 0.029623\n",
      "::1 - - [2017-05-19 19:51:29] \"GET /tile/2/3/3.png HTTP/1.1\" 500 2778 0.029168\n",
      "::1 - - [2017-05-19 19:51:30] \"GET /tile/3/5/3.png HTTP/1.1\" 500 2778 0.128924\n",
      "::1 - - [2017-05-19 19:51:30] \"GET /tile/3/5/5.png HTTP/1.1\" 500 2778 0.023501\n",
      "::1 - - [2017-05-19 19:51:30] \"GET /tile/3/4/2.png HTTP/1.1\" 500 2778 0.027296\n",
      "::1 - - [2017-05-19 19:51:30] \"GET /tile/3/6/4.png HTTP/1.1\" 500 2778 0.032389\n",
      "::1 - - [2017-05-19 19:51:30] \"GET /tile/3/4/6.png HTTP/1.1\" 500 2778 0.023917\n",
      "::1 - - [2017-05-19 19:51:30] \"GET /tile/3/2/4.png HTTP/1.1\" 500 2778 0.028885\n",
      "::1 - - [2017-05-19 19:51:30] \"GET /tile/3/5/2.png HTTP/1.1\" 500 2778 0.033750\n",
      "::1 - - [2017-05-19 19:51:30] \"GET /tile/3/2/5.png HTTP/1.1\" 500 2778 0.050494\n",
      "::1 - - [2017-05-19 19:51:30] \"GET /tile/3/3/2.png HTTP/1.1\" 500 2778 0.171762\n",
      "::1 - - [2017-05-19 19:51:30] \"GET /tile/3/3/6.png HTTP/1.1\" 500 2778 0.032070\n",
      "::1 - - [2017-05-19 19:51:30] \"GET /tile/3/5/6.png HTTP/1.1\" 500 2778 0.075070\n",
      "::1 - - [2017-05-19 19:51:30] \"GET /tile/3/6/3.png HTTP/1.1\" 500 2778 0.082840\n",
      "::1 - - [2017-05-19 19:51:30] \"GET /tile/3/6/5.png HTTP/1.1\" 500 2778 0.030665\n",
      "::1 - - [2017-05-19 19:51:30] \"GET /tile/3/2/3.png HTTP/1.1\" 500 2778 0.078660\n",
      "::1 - - [2017-05-19 19:51:30] \"GET /tile/3/2/6.png HTTP/1.1\" 500 2778 0.031051\n",
      "::1 - - [2017-05-19 19:51:31] \"GET /tile/3/2/2.png HTTP/1.1\" 500 2778 0.186543\n",
      "::1 - - [2017-05-19 19:51:31] \"GET /tile/3/6/2.png HTTP/1.1\" 500 2778 0.019255\n",
      "::1 - - [2017-05-19 19:51:31] \"GET /tile/3/6/6.png HTTP/1.1\" 500 2778 0.120439\n",
      "::1 - - [2017-05-19 19:51:31] \"GET /tile/4/6/10.png HTTP/1.1\" 500 2780 0.027772\n",
      "::1 - - [2017-05-19 19:51:31] \"GET /tile/4/9/10.png HTTP/1.1\" 500 2780 0.064250\n",
      "::1 - - [2017-05-19 19:51:31] \"GET /tile/3/0/2.png HTTP/1.1\" 500 2778 0.024654\n",
      "::1 - - [2017-05-19 19:51:31] \"GET /tile/3/1/1.png HTTP/1.1\" 500 2778 0.024679\n",
      "::1 - - [2017-05-19 19:51:31] \"GET /tile/3/1/3.png HTTP/1.1\" 500 2778 0.027413\n",
      "::1 - - [2017-05-19 19:51:31] \"GET /tile/3/0/3.png HTTP/1.1\" 500 2778 0.099342\n",
      "::1 - - [2017-05-19 19:51:31] \"GET /tile/3/1/2.png HTTP/1.1\" 500 2778 0.026098\n",
      "::1 - - [2017-05-19 19:51:32] \"GET /tile/3/0/1.png HTTP/1.1\" 200 898 0.930335\n",
      "::1 - - [2017-05-19 19:51:32] \"GET /tile/3/2/1.png HTTP/1.1\" 500 2778 0.027562\n",
      "::1 - - [2017-05-19 19:51:32] \"GET /tile/3/1/0.png HTTP/1.1\" 500 2778 0.024186\n",
      "::1 - - [2017-05-19 19:51:32] \"GET /tile/3/1/4.png HTTP/1.1\" 500 2778 0.023727\n",
      "::1 - - [2017-05-19 19:51:32] \"GET /tile/3/7/1.png HTTP/1.1\" 500 2778 0.031595\n",
      "::1 - - [2017-05-19 19:51:32] \"GET /tile/3/7/2.png HTTP/1.1\" 500 2778 0.026591\n",
      "::1 - - [2017-05-19 19:51:32] \"GET /tile/3/0/0.png HTTP/1.1\" 500 2778 0.020851\n",
      "::1 - - [2017-05-19 19:51:32] \"GET /tile/3/2/0.png HTTP/1.1\" 500 2778 0.073515\n",
      "::1 - - [2017-05-19 19:51:32] \"GET /tile/3/7/0.png HTTP/1.1\" 500 2778 0.022163\n",
      "::1 - - [2017-05-19 19:51:32] \"GET /tile/3/7/3.png HTTP/1.1\" 500 2778 0.072315\n",
      "::1 - - [2017-05-19 19:51:32] \"GET /tile/3/0/4.png HTTP/1.1\" 500 2778 0.022121\n",
      "::1 - - [2017-05-19 19:51:33] \"GET /tile/3/7/4.png HTTP/1.1\" 500 2778 0.068536\n",
      "::1 - - [2017-05-19 19:51:33] \"GET /tile/3/3/1.png HTTP/1.1\" 500 2778 0.021981\n",
      "::1 - - [2017-05-19 19:51:33] \"GET /tile/3/3/0.png HTTP/1.1\" 500 2778 0.024457\n",
      "::1 - - [2017-05-19 19:51:33] \"GET /tile/4/1/4.png HTTP/1.1\" 500 2778 0.025202\n",
      "::1 - - [2017-05-19 19:51:33] \"GET /tile/4/2/4.png HTTP/1.1\" 500 2778 0.052936\n",
      "::1 - - [2017-05-19 19:51:33] \"GET /tile/4/1/3.png HTTP/1.1\" 500 2778 0.072941\n",
      "::1 - - [2017-05-19 19:51:34] \"GET /tile/4/0/3.png HTTP/1.1\" 200 1615 0.293985\n",
      "::1 - - [2017-05-19 19:51:34] \"GET /tile/4/0/4.png HTTP/1.1\" 500 2778 0.025701\n",
      "::1 - - [2017-05-19 19:51:34] \"GET /tile/4/2/2.png HTTP/1.1\" 500 2778 0.070332\n",
      "::1 - - [2017-05-19 19:51:34] \"GET /tile/4/1/2.png HTTP/1.1\" 500 2778 0.024764\n",
      "::1 - - [2017-05-19 19:51:34] \"GET /tile/4/0/2.png HTTP/1.1\" 500 2778 0.148927\n",
      "::1 - - [2017-05-19 19:51:34] \"GET /tile/4/0/5.png HTTP/1.1\" 500 2778 0.073924\n",
      "::1 - - [2017-05-19 19:51:34] \"GET /tile/4/3/3.png HTTP/1.1\" 500 2778 0.025345\n",
      "::1 - - [2017-05-19 19:51:34] \"GET /tile/4/3/4.png HTTP/1.1\" 500 2778 0.022767\n",
      "::1 - - [2017-05-19 19:51:34] \"GET /tile/4/3/2.png HTTP/1.1\" 500 2778 0.035532\n",
      "::1 - - [2017-05-19 19:51:34] \"GET /tile/4/3/5.png HTTP/1.1\" 500 2778 0.078618\n",
      "::1 - - [2017-05-19 19:51:34] \"GET /tile/4/2/6.png HTTP/1.1\" 500 2778 0.090450\n",
      "::1 - - [2017-05-19 19:51:34] \"GET /tile/4/1/6.png HTTP/1.1\" 500 2778 0.021131\n",
      "::1 - - [2017-05-19 19:51:35] \"GET /tile/4/0/6.png HTTP/1.1\" 500 2778 0.024551\n",
      "::1 - - [2017-05-19 19:51:35] \"GET /tile/4/3/6.png HTTP/1.1\" 500 2778 0.330212\n",
      "::1 - - [2017-05-19 19:51:35] \"GET /tile/4/2/3.png HTTP/1.1\" 500 2778 0.066049\n",
      "::1 - - [2017-05-19 19:51:35] \"GET /tile/4/2/5.png HTTP/1.1\" 500 2778 0.074342\n",
      "::1 - - [2017-05-19 19:51:35] \"GET /tile/4/1/5.png HTTP/1.1\" 500 2778 0.022388\n"
     ]
    },
    {
     "name": "stderr",
     "output_type": "stream",
     "text": [
      "::1 - - [2017-05-19 19:51:44] \"GET /tile/4/1/1.png HTTP/1.1\" 500 2778 0.183079\n",
      "::1 - - [2017-05-19 19:51:44] \"GET /tile/4/15/3.png HTTP/1.1\" 500 2780 0.067852\n",
      "::1 - - [2017-05-19 19:51:44] \"GET /tile/4/2/1.png HTTP/1.1\" 500 2778 0.067180\n",
      "::1 - - [2017-05-19 19:51:44] \"GET /tile/4/15/4.png HTTP/1.1\" 500 2780 0.069032\n",
      "::1 - - [2017-05-19 19:51:44] \"GET /tile/4/0/1.png HTTP/1.1\" 500 2778 0.074133\n",
      "::1 - - [2017-05-19 19:51:44] \"GET /tile/4/15/2.png HTTP/1.1\" 500 2780 0.074113\n",
      "::1 - - [2017-05-19 19:51:44] \"GET /tile/4/15/1.png HTTP/1.1\" 500 2780 0.070905\n",
      "::1 - - [2017-05-19 19:51:44] \"GET /tile/4/15/5.png HTTP/1.1\" 500 2780 0.071880\n",
      "::1 - - [2017-05-19 19:51:44] \"GET /tile/4/3/1.png HTTP/1.1\" 500 2778 0.072087\n",
      "::1 - - [2017-05-19 19:51:45] \"GET /tile/5/2/7.png HTTP/1.1\" 500 2778 0.197836\n",
      "::1 - - [2017-05-19 19:51:45] \"GET /tile/5/1/7.png HTTP/1.1\" 200 3140 0.262687\n",
      "::1 - - [2017-05-19 19:51:45] \"GET /tile/5/1/6.png HTTP/1.1\" 200 1392 0.260592\n",
      "::1 - - [2017-05-19 19:51:45] \"GET /tile/5/2/6.png HTTP/1.1\" 500 2778 0.022006\n",
      "::1 - - [2017-05-19 19:51:46] \"GET /tile/6/3/14.png HTTP/1.1\" 200 8574 0.333319\n",
      "::1 - - [2017-05-19 19:51:46] \"GET /tile/6/3/15.png HTTP/1.1\" 500 2780 0.026372\n",
      "::1 - - [2017-05-19 19:51:46] \"GET /tile/6/2/15.png HTTP/1.1\" 500 2780 0.068848\n",
      "::1 - - [2017-05-19 19:51:46] \"GET /tile/6/3/16.png HTTP/1.1\" 500 2780 0.049830\n",
      "::1 - - [2017-05-19 19:51:46] \"GET /tile/6/2/14.png HTTP/1.1\" 500 2780 0.076340\n",
      "::1 - - [2017-05-19 19:51:46] \"GET /tile/6/3/13.png HTTP/1.1\" 200 3132 0.344459\n",
      "::1 - - [2017-05-19 19:51:46] \"GET /tile/6/4/14.png HTTP/1.1\" 500 2780 0.025601\n",
      "::1 - - [2017-05-19 19:51:46] \"GET /tile/6/2/13.png HTTP/1.1\" 500 2780 0.024935\n",
      "::1 - - [2017-05-19 19:51:46] \"GET /tile/6/4/13.png HTTP/1.1\" 500 2780 0.024817\n",
      "::1 - - [2017-05-19 19:51:46] \"GET /tile/6/4/15.png HTTP/1.1\" 500 2780 0.058323\n",
      "::1 - - [2017-05-19 19:51:46] \"GET /tile/6/2/16.png HTTP/1.1\" 500 2780 0.071764\n",
      "::1 - - [2017-05-19 19:51:46] \"GET /tile/6/4/16.png HTTP/1.1\" 500 2780 0.067702\n",
      "::1 - - [2017-05-19 19:51:47] \"GET /tile/6/5/15.png HTTP/1.1\" 500 2780 0.046616\n",
      "::1 - - [2017-05-19 19:51:47] \"GET /tile/6/5/14.png HTTP/1.1\" 500 2780 0.023328\n",
      "::1 - - [2017-05-19 19:51:47] \"GET /tile/6/5/16.png HTTP/1.1\" 500 2780 0.021594\n",
      "::1 - - [2017-05-19 19:51:47] \"GET /tile/6/5/13.png HTTP/1.1\" 500 2780 0.024751\n",
      "::1 - - [2017-05-19 19:51:47] \"GET /tile/6/6/15.png HTTP/1.1\" 500 2780 0.021869\n",
      "::1 - - [2017-05-19 19:51:47] \"GET /tile/6/6/14.png HTTP/1.1\" 500 2780 0.075885\n",
      "::1 - - [2017-05-19 19:51:47] \"GET /tile/6/6/13.png HTTP/1.1\" 500 2780 0.023129\n",
      "::1 - - [2017-05-19 19:51:47] \"GET /tile/6/6/16.png HTTP/1.1\" 500 2780 0.026272\n",
      "::1 - - [2017-05-19 19:51:47] \"GET /tile/5/2/8.png HTTP/1.1\" 500 2778 0.021793\n",
      "::1 - - [2017-05-19 19:51:47] \"GET /tile/5/3/7.png HTTP/1.1\" 500 2778 0.135477\n",
      "::1 - - [2017-05-19 19:51:47] \"GET /tile/5/1/8.png HTTP/1.1\" 500 2778 0.025426\n",
      "::1 - - [2017-05-19 19:51:47] \"GET /tile/5/3/6.png HTTP/1.1\" 500 2778 0.023390\n",
      "::1 - - [2017-05-19 19:51:47] \"GET /tile/5/3/8.png HTTP/1.1\" 500 2778 0.024559\n",
      "::1 - - [2017-05-19 19:51:47] \"GET /tile/5/0/7.png HTTP/1.1\" 500 2778 0.025756\n",
      "::1 - - [2017-05-19 19:51:47] \"GET /tile/5/0/8.png HTTP/1.1\" 500 2778 0.031795\n",
      "::1 - - [2017-05-19 19:51:47] \"GET /tile/5/0/6.png HTTP/1.1\" 500 2778 0.022128\n",
      "::1 - - [2017-05-19 19:51:47] \"GET /tile/5/2/5.png HTTP/1.1\" 500 2778 0.069636\n",
      "::1 - - [2017-05-19 19:51:47] \"GET /tile/5/1/5.png HTTP/1.1\" 500 2778 0.074743\n",
      "::1 - - [2017-05-19 19:51:47] \"GET /tile/5/3/5.png HTTP/1.1\" 500 2778 0.024456\n",
      "::1 - - [2017-05-19 19:51:47] \"GET /tile/5/0/5.png HTTP/1.1\" 500 2778 0.063033\n",
      "::1 - - [2017-05-19 19:51:47] \"GET /tile/5/4/7.png HTTP/1.1\" 500 2778 0.024954\n",
      "::1 - - [2017-05-19 19:51:47] \"GET /tile/5/4/6.png HTTP/1.1\" 500 2778 0.021186\n",
      "::1 - - [2017-05-19 19:51:47] \"GET /tile/5/4/5.png HTTP/1.1\" 500 2778 0.022721\n",
      "::1 - - [2017-05-19 19:51:48] \"GET /tile/5/4/8.png HTTP/1.1\" 500 2778 0.028646\n",
      "::1 - - [2017-05-19 19:51:48] \"GET /tile/7/7/28.png HTTP/1.1\" 200 23948 0.338218\n",
      "::1 - - [2017-05-19 19:51:48] \"GET /tile/7/6/28.png HTTP/1.1\" 500 2780 0.021739\n",
      "::1 - - [2017-05-19 19:51:48] \"GET /tile/7/7/27.png HTTP/1.1\" 200 7729 0.262943\n",
      "::1 - - [2017-05-19 19:51:48] \"GET /tile/7/7/29.png HTTP/1.1\" 500 2780 0.021898\n",
      "::1 - - [2017-05-19 19:51:48] \"GET /tile/7/8/28.png HTTP/1.1\" 500 2780 0.019552\n",
      "::1 - - [2017-05-19 19:51:48] \"GET /tile/7/6/29.png HTTP/1.1\" 500 2780 0.065121\n",
      "::1 - - [2017-05-19 19:51:48] \"GET /tile/7/6/27.png HTTP/1.1\" 500 2780 0.066513\n",
      "::1 - - [2017-05-19 19:51:48] \"GET /tile/7/8/27.png HTTP/1.1\" 500 2780 0.023136\n",
      "::1 - - [2017-05-19 19:51:48] \"GET /tile/7/8/29.png HTTP/1.1\" 500 2780 0.067954\n",
      "::1 - - [2017-05-19 19:51:49] \"GET /tile/7/7/26.png HTTP/1.1\" 500 2780 0.069559\n",
      "::1 - - [2017-05-19 19:51:49] \"GET /tile/7/9/28.png HTTP/1.1\" 500 2780 0.023088\n",
      "::1 - - [2017-05-19 19:51:49] \"GET /tile/7/9/27.png HTTP/1.1\" 500 2780 0.024538\n",
      "::1 - - [2017-05-19 19:51:49] \"GET /tile/7/9/29.png HTTP/1.1\" 500 2780 0.025006\n",
      "::1 - - [2017-05-19 19:51:49] \"GET /tile/7/8/26.png HTTP/1.1\" 500 2780 0.023962\n",
      "::1 - - [2017-05-19 19:51:49] \"GET /tile/7/9/26.png HTTP/1.1\" 500 2780 0.067637\n",
      "::1 - - [2017-05-19 19:51:49] \"GET /tile/7/6/26.png HTTP/1.1\" 500 2780 0.031871\n",
      "::1 - - [2017-05-19 19:51:49] \"GET /tile/7/8/30.png HTTP/1.1\" 500 2780 0.068927\n",
      "::1 - - [2017-05-19 19:51:49] \"GET /tile/7/7/30.png HTTP/1.1\" 500 2780 0.084198\n",
      "::1 - - [2017-05-19 19:51:49] \"GET /tile/7/6/30.png HTTP/1.1\" 500 2780 0.021513\n",
      "::1 - - [2017-05-19 19:51:49] \"GET /tile/7/9/30.png HTTP/1.1\" 500 2780 0.023031\n",
      "::1 - - [2017-05-19 19:51:49] \"GET /tile/8/14/56.png HTTP/1.1\" 200 43594 0.373599\n",
      "::1 - - [2017-05-19 19:51:49] \"GET /tile/8/15/56.png HTTP/1.1\" 500 2782 0.022989\n",
      "::1 - - [2017-05-19 19:51:50] \"GET /tile/8/14/57.png HTTP/1.1\" 200 20965 0.295855\n",
      "::1 - - [2017-05-19 19:51:50] \"GET /tile/8/15/57.png HTTP/1.1\" 500 2782 0.067225\n",
      "::1 - - [2017-05-19 19:51:50] \"GET /tile/8/13/56.png HTTP/1.1\" 500 2782 0.023555\n",
      "::1 - - [2017-05-19 19:51:50] \"GET /tile/8/14/58.png HTTP/1.1\" 500 2782 0.020076\n",
      "::1 - - [2017-05-19 19:51:50] \"GET /tile/8/13/57.png HTTP/1.1\" 500 2782 0.024065\n",
      "::1 - - [2017-05-19 19:51:50] \"GET /tile/8/15/55.png HTTP/1.1\" 500 2782 0.084926\n",
      "::1 - - [2017-05-19 19:51:50] \"GET /tile/8/14/55.png HTTP/1.1\" 200 18969 0.257758\n",
      "::1 - - [2017-05-19 19:51:50] \"GET /tile/8/15/58.png HTTP/1.1\" 500 2782 0.020783\n",
      "::1 - - [2017-05-19 19:51:50] \"GET /tile/8/16/56.png HTTP/1.1\" 500 2782 0.024473\n",
      "::1 - - [2017-05-19 19:51:50] \"GET /tile/8/16/57.png HTTP/1.1\" 500 2782 0.064547\n",
      "::1 - - [2017-05-19 19:51:50] \"GET /tile/8/16/55.png HTTP/1.1\" 500 2782 0.074570\n",
      "::1 - - [2017-05-19 19:51:52] \"GET /tile/8/13/55.png HTTP/1.1\" 500 2782 1.989575\n",
      "::1 - - [2017-05-19 19:51:52] \"GET /tile/8/13/58.png HTTP/1.1\" 500 2782 0.019760\n",
      "::1 - - [2017-05-19 19:51:53] \"GET /tile/8/16/58.png HTTP/1.1\" 500 2782 0.027458\n",
      "::1 - - [2017-05-19 19:51:53] \"GET /tile/8/14/54.png HTTP/1.1\" 500 2782 0.020633\n",
      "::1 - - [2017-05-19 19:51:53] \"GET /tile/8/15/54.png HTTP/1.1\" 500 2782 0.063292\n",
      "::1 - - [2017-05-19 19:51:53] \"GET /tile/8/13/54.png HTTP/1.1\" 500 2782 0.119149\n",
      "::1 - - [2017-05-19 19:51:53] \"GET /tile/8/16/54.png HTTP/1.1\" 500 2782 0.020521\n",
      "::1 - - [2017-05-19 19:51:53] \"GET /tile/7/5/28.png HTTP/1.1\" 500 2780 0.022106\n",
      "::1 - - [2017-05-19 19:51:53] \"GET /tile/7/5/29.png HTTP/1.1\" 500 2780 0.023620\n",
      "::1 - - [2017-05-19 19:51:53] \"GET /tile/7/5/27.png HTTP/1.1\" 500 2780 0.018916\n",
      "::1 - - [2017-05-19 19:51:53] \"GET /tile/7/5/30.png HTTP/1.1\" 500 2780 0.091963\n",
      "::1 - - [2017-05-19 19:51:53] \"GET /tile/7/5/26.png HTTP/1.1\" 500 2780 0.133224\n",
      "::1 - - [2017-05-19 19:51:53] \"GET /tile/5/2/9.png HTTP/1.1\" 500 2778 0.075111\n",
      "::1 - - [2017-05-19 19:51:53] \"GET /tile/5/1/9.png HTTP/1.1\" 500 2778 0.021633\n",
      "::1 - - [2017-05-19 19:51:53] \"GET /tile/5/3/9.png HTTP/1.1\" 500 2778 0.022813\n",
      "::1 - - [2017-05-19 19:51:53] \"GET /tile/5/0/9.png HTTP/1.1\" 500 2778 0.094612\n",
      "::1 - - [2017-05-19 19:51:53] \"GET /tile/5/4/9.png HTTP/1.1\" 500 2778 0.022671\n"
     ]
    }
   ],
   "source": [
    "from geonotebook.vis.geotrellis.render_methods import render_nlcd\n",
    "from geopyspark.geotrellis.render import ColorRamp\n",
    "\n",
    "cmap1 = ColorRamp.getHex(geopysc, \"viridis\", 50)\n",
    "colors = dict(enumerate(cmap1, start=1))\n",
    "    \n",
    "cmap_render1 = single_band_render_from_color_map(colors)\n",
    "def render_ed(tile):\n",
    "    return cmap_render1(tile[0].astype(int))\n",
    "\n",
    "M.add_layer(data,render_tile=render_ed)"
   ]
  },
  {
   "cell_type": "markdown",
   "metadata": {},
   "source": [
    "## Viewing reclassified tiles"
   ]
  },
  {
   "cell_type": "code",
   "execution_count": null,
   "metadata": {
    "collapsed": true
   },
   "outputs": [],
   "source": [
    "def reclass(tile):\n",
    "    # Planted/Cultivated\n",
    "    # See https://www.mrlc.gov/nlcd11_leg.php\n",
    "    result = tile.copy()\n",
    "    result[np.ma.where((80 <= tile) & (tile < 90))] = 1\n",
    "    result[np.ma.where((tile  < 80) | (90 <= tile))] = 0\n",
    "    return result\n",
    "     \n",
    "cmap = { 0 : \"#00000000\", 1: \"#CA9146FF\" }\n",
    "cmap_render = single_band_render_from_color_map(cmap)\n",
    "\n",
    "def reclass_render(tile):\n",
    "    reclassed = reclass(tile[0])\n",
    "    return cmap_render(reclassed)"
   ]
  },
  {
   "cell_type": "code",
   "execution_count": 24,
   "metadata": {},
   "outputs": [
    {
     "data": {
      "text/plain": [
       "<GeonotebookLayerCollection([<InProcessTileLayer('-2302025634942909807__us-ned-tms-epsg3857')>])>"
      ]
     },
     "execution_count": 24,
     "metadata": {},
     "output_type": "execute_result"
    }
   ],
   "source": [
    "M.layers"
   ]
  },
  {
   "cell_type": "code",
   "execution_count": 39,
   "metadata": {},
   "outputs": [
    {
     "ename": "NameError",
     "evalue": "name 'reclass_render' is not defined",
     "output_type": "error",
     "traceback": [
      "\u001b[0;31m---------------------------------------------------------------------------\u001b[0m",
      "\u001b[0;31mNameError\u001b[0m                                 Traceback (most recent call last)",
      "\u001b[0;32m<ipython-input-39-defb4719f8e8>\u001b[0m in \u001b[0;36m<module>\u001b[0;34m()\u001b[0m\n\u001b[0;32m----> 1\u001b[0;31m \u001b[0mM\u001b[0m\u001b[0;34m.\u001b[0m\u001b[0madd_layer\u001b[0m\u001b[0;34m(\u001b[0m\u001b[0mdata\u001b[0m\u001b[0;34m,\u001b[0m \u001b[0mrender_tile\u001b[0m\u001b[0;34m=\u001b[0m\u001b[0mreclass_render\u001b[0m\u001b[0;34m)\u001b[0m\u001b[0;34m\u001b[0m\u001b[0m\n\u001b[0m",
      "\u001b[0;31mNameError\u001b[0m: name 'reclass_render' is not defined"
     ]
    }
   ],
   "source": [
    "M.add_layer(data, render_tile=reclass_render)"
   ]
  },
  {
   "cell_type": "markdown",
   "metadata": {},
   "source": [
    "## Chattanooga geometry"
   ]
  },
  {
   "cell_type": "code",
   "execution_count": null,
   "metadata": {
    "collapsed": true
   },
   "outputs": [],
   "source": [
    "!curl -o /tmp/mask.json https://s3.amazonaws.com/chattademo/chatta_mask.json"
   ]
  },
  {
   "cell_type": "code",
   "execution_count": null,
   "metadata": {
    "collapsed": true
   },
   "outputs": [],
   "source": [
    "from functools import partial\n",
    "import fiona\n",
    "import json\n",
    "import pyproj\n",
    "from shapely.geometry import mapping, shape\n",
    "from shapely.ops import transform\n",
    "\n",
    "project = partial(\n",
    "    pyproj.transform,\n",
    "    pyproj.Proj(init='epsg:4326'),\n",
    "    pyproj.Proj(init='epsg:3857'))\n",
    "\n",
    "txt = open('/tmp/mask.json').read()\n",
    "js = json.loads(txt)\n",
    "geom = shape(js)\n",
    "center = geom.centroid\n",
    "chatta_poly = transform(project, geom)\n",
    "chatta_poly"
   ]
  },
  {
   "cell_type": "code",
   "execution_count": 40,
   "metadata": {},
   "outputs": [
    {
     "data": {
      "text/plain": [
       "<promise.promise.Promise at 0x7f9f2c31ff28>"
      ]
     },
     "execution_count": 40,
     "metadata": {},
     "output_type": "execute_result"
    }
   ],
   "source": [
    "M.remove_layer(M.layers[0])"
   ]
  },
  {
   "cell_type": "code",
   "execution_count": null,
   "metadata": {
    "collapsed": true
   },
   "outputs": [],
   "source": [
    "from geonotebook.wrappers import VectorData\n",
    "vd = VectorData(\"/tmp/mask.json\")\n",
    "name = \"Outline\"\n",
    "M.add_layer(vd, name=name)"
   ]
  },
  {
   "cell_type": "code",
   "execution_count": null,
   "metadata": {
    "collapsed": true
   },
   "outputs": [],
   "source": [
    "M.set_center(center.x, center.y, 9)"
   ]
  },
  {
   "cell_type": "markdown",
   "metadata": {},
   "source": [
    "## Fetching an RDD of NLCD masked to Chattanooga"
   ]
  },
  {
   "cell_type": "code",
   "execution_count": null,
   "metadata": {
    "collapsed": true
   },
   "outputs": [],
   "source": [
    "MAX_ZOOM = 12\n",
    "query_rdd = query(geopysc, SPATIAL, catalog_uri, layer_name, 12, intersects=chatta_poly)\n",
    "converted_rdd = query_rdd.convert_data_type(\"int8\")"
   ]
  },
  {
   "cell_type": "code",
   "execution_count": null,
   "metadata": {
    "collapsed": true
   },
   "outputs": [],
   "source": [
    "masked = converted_rdd.mask([chatta_poly])\n",
    "rd = RddRasterData(masked)"
   ]
  },
  {
   "cell_type": "code",
   "execution_count": 29,
   "metadata": {},
   "outputs": [
    {
     "data": {
      "text/plain": [
       "<promise.promise.Promise at 0x7f9f2c37bc88>"
      ]
     },
     "execution_count": 29,
     "metadata": {},
     "output_type": "execute_result"
    }
   ],
   "source": [
    "M.remove_layer(M.layers[0])"
   ]
  },
  {
   "cell_type": "code",
   "execution_count": null,
   "metadata": {
    "collapsed": true
   },
   "outputs": [],
   "source": [
    "M.add_layer(rd, render_tile=render_nlcd)"
   ]
  },
  {
   "cell_type": "markdown",
   "metadata": {},
   "source": [
    "## Reclassifying an RDD"
   ]
  },
  {
   "cell_type": "code",
   "execution_count": null,
   "metadata": {
    "collapsed": true
   },
   "outputs": [],
   "source": [
    "nprdd = converted_rdd.to_numpy_rdd()"
   ]
  },
  {
   "cell_type": "code",
   "execution_count": null,
   "metadata": {
    "collapsed": true
   },
   "outputs": [],
   "source": [
    "def mapper(tile):\n",
    "    arr = tile['data'][0]\n",
    "    np.ma.masked_where(arr == tile['no_data_value'], arr)\n",
    "    tile['data'] = np.array([reclass(arr)])\n",
    "    return tile\n",
    "mapped = nprdd.mapValues(mapper).cache()\n",
    "gtRdd = TiledRasterRDD.from_numpy_rdd(geopysc, SPATIAL, mapped, query_rdd.layer_metadata)\n",
    "reclassed = gtRdd.mask([chatta_poly])"
   ]
  },
  {
   "cell_type": "code",
   "execution_count": 32,
   "metadata": {
    "collapsed": true
   },
   "outputs": [],
   "source": [
    "cmap = { 0 : \"#00FFAA88\", 100000: \"#CA9146FF\" }\n",
    "cmap_render = single_band_render_from_color_map(cmap)\n",
    "def render_tile(tile):\n",
    "    arr = tile[0]\n",
    "    print(arr.min(), arr.max())\n",
    "    arr[:] = 100000\n",
    "    return cmap_render(arr)"
   ]
  },
  {
   "cell_type": "code",
   "execution_count": null,
   "metadata": {
    "collapsed": true
   },
   "outputs": [],
   "source": [
    "rd = RddRasterData(reclassed)"
   ]
  },
  {
   "cell_type": "code",
   "execution_count": 34,
   "metadata": {},
   "outputs": [
    {
     "data": {
      "text/plain": [
       "<promise.promise.Promise at 0x7f9f2c38ec50>"
      ]
     },
     "execution_count": 34,
     "metadata": {},
     "output_type": "execute_result"
    }
   ],
   "source": [
    "M.remove_layer(M.layers[0])"
   ]
  },
  {
   "cell_type": "code",
   "execution_count": null,
   "metadata": {
    "collapsed": true
   },
   "outputs": [],
   "source": [
    "M.add_layer(rd, render_tile=render_tile)"
   ]
  },
  {
   "cell_type": "markdown",
   "metadata": {},
   "source": [
    "## Saving the reclassified layer locally"
   ]
  },
  {
   "cell_type": "code",
   "execution_count": null,
   "metadata": {
    "collapsed": true
   },
   "outputs": [],
   "source": [
    "local_catalog_uri = \"file://catalog\""
   ]
  },
  {
   "cell_type": "code",
   "execution_count": null,
   "metadata": {
    "collapsed": true
   },
   "outputs": [],
   "source": [
    "# Reproject to bring the tile sizes to 256\n",
    "retiled = reclassed.reproject(\"EPSG:3857\", scheme=ZOOM)"
   ]
  },
  {
   "cell_type": "code",
   "execution_count": null,
   "metadata": {
    "collapsed": true
   },
   "outputs": [],
   "source": [
    "for layer_rdd in retiled.pyramid(retiled.zoom_level, 0):\n",
    "    write(local_catalog_uri, \"cultivated-land-cover\", layer_rdd)\n"
   ]
  },
  {
   "cell_type": "markdown",
   "metadata": {},
   "source": [
    "## Viewing the local layer"
   ]
  },
  {
   "cell_type": "code",
   "execution_count": null,
   "metadata": {
    "collapsed": true
   },
   "outputs": [],
   "source": [
    "data = GeoTrellisCatalogLayerData(geopysc, \n",
    "                                  local_catalog_uri, \n",
    "                                  \"cultivated-land-cover\",\n",
    "                                  SPATIAL)"
   ]
  },
  {
   "cell_type": "code",
   "execution_count": null,
   "metadata": {
    "collapsed": true
   },
   "outputs": [],
   "source": [
    "M.remove_layer(M.layers[0])"
   ]
  },
  {
   "cell_type": "code",
   "execution_count": null,
   "metadata": {
    "collapsed": true
   },
   "outputs": [],
   "source": [
    "M.add_layer(data, render_tile=render_tile)"
   ]
  }
 ],
 "metadata": {
  "kernelspec": {
   "display_name": "GeoNotebook + GeoPySpark (local)",
   "language": "python",
   "name": "geonotebook3"
  },
  "language_info": {
   "codemirror_mode": {
    "name": "ipython",
    "version": 3
   },
   "file_extension": ".py",
   "mimetype": "text/x-python",
   "name": "python",
   "nbconvert_exporter": "python",
   "pygments_lexer": "ipython3",
   "version": "3.4.5"
  }
 },
 "nbformat": 4,
 "nbformat_minor": 2
}
